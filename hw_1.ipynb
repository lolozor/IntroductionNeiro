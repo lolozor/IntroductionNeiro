{
 "cells": [
  {
   "cell_type": "markdown",
   "metadata": {},
   "source": [
    "## Домашнее задание\n",
    "\n",
    "1. Попробуйте видоизменить параметры разобранной на уроке двухслойной нейронной сети таким образом, чтобы улучшить ее точность (число нейронов, число эпох , можно изменять число слоев).\n",
    "2. Проведите анализ — что приводит к ухудшению точности нейронной сети? Что приводит к увеличению ее точности?"
   ]
  },
  {
   "cell_type": "code",
   "execution_count": null,
   "metadata": {},
   "outputs": [],
   "source": []
  },
  {
   "cell_type": "markdown",
   "metadata": {},
   "source": [
    "# Сначала идет домашка в виде рассуждений. Потом - код."
   ]
  },
  {
   "cell_type": "code",
   "execution_count": null,
   "metadata": {},
   "outputs": [],
   "source": []
  },
  {
   "cell_type": "markdown",
   "metadata": {},
   "source": [
    "Baseline кода с урока: `80-85%`\n",
    "\n",
    "### 1. Вопрос. Параметры для изменения:\n",
    "1. число нейронов скрытого слоя - `на точность влияет слабо`\n",
    "2. скорость обучения - `оптимальна 0,1. когда меньше - падает точность, когда больше - модель нестабильно себя ведет`\n",
    "3. число эпох - `при 5000 точность 93-95%`\n",
    "4. функция активации - `изменение функции активации на ReLu - результат сразу падает до 60-65%`\n",
    "5. инициализация начальных весов - `оставил только random - результат не поменялся`\n",
    "\n",
    "Реализовал добавление ещё одного слоя в нейронную сеть. точность повысилась (`доходит до 96%`), но модель стала работать нестабильно - иногда обучение идет как-то странно и выходит на точность 70-80%\n",
    "\n",
    "Добавил ещё один слой. Точность не выросла, но стабильность модели очень сильно просела!\n",
    "\n",
    "#### Максимальный результат, которого удалось добиться - `96-97% (baseline = 85%)`"
   ]
  },
  {
   "cell_type": "markdown",
   "metadata": {},
   "source": [
    "### 2. Вопрос. В данном случае к улучшению точности нейросети приводит увеличение числа эпох. Остальные параметры (число нейронов, скорость обучения, количество слоев, даже функция активации) надо подбирать..."
   ]
  },
  {
   "cell_type": "code",
   "execution_count": null,
   "metadata": {},
   "outputs": [],
   "source": []
  },
  {
   "cell_type": "code",
   "execution_count": 1,
   "metadata": {},
   "outputs": [],
   "source": [
    "'''\n",
    "Исходный код к уроку 1.\n",
    "Построение двухслойной нейронный сети для классификации цветков ириса\n",
    "'''\n",
    "\n",
    "import numpy as np\n",
    "import pandas as pd\n",
    "import seaborn as sns\n",
    "import matplotlib.pyplot as plt\n",
    "\n",
    "import warnings\n",
    "warnings.simplefilter(action='ignore', category=FutureWarning)\n",
    "\n",
    "# sklearn здесь только, чтобы разделить выборку на тренировочную и тестовую\n",
    "from sklearn.model_selection import train_test_split"
   ]
  },
  {
   "cell_type": "code",
   "execution_count": 3,
   "metadata": {},
   "outputs": [],
   "source": [
    "### Шаг 1. Определение функций, которые понадобяться для обучения\n",
    "# преобразование массива в бинарный вид результатов\n",
    "def to_one_hot(Y):\n",
    "    n_col = np.amax(Y) + 1\n",
    "    binarized = np.zeros((len(Y), n_col))\n",
    "    for i in range(len(Y)):\n",
    "        binarized[i, Y[i]] = 1.\n",
    "    return binarized\n",
    "\n",
    "# преобразование массива в необходимый вид\n",
    "# def from_one_hot(Y):\n",
    "#     arr = np.zeros((len(Y), 1))\n",
    "\n",
    "#     for i in range(len(Y)):\n",
    "#         l = Y[i]\n",
    "#         for j in range(len(l)):\n",
    "#             if(l[j] == 1):\n",
    "#                 arr[i] = j+1\n",
    "#     return arr\n",
    "\n",
    "# сигмоида и ее производная\n",
    "def sigmoid(x):\n",
    "    return 1/(1+np.exp(-x))\n",
    "\n",
    "def sigmoid_deriv(x):\n",
    "    return sigmoid(x)*(1 - sigmoid(x))\n",
    "\n",
    "# нормализация массива\n",
    "def normalize(X, axis=-1, order=2):\n",
    "    l2 = np.atleast_1d(np.linalg.norm(X, order, axis))\n",
    "    l2[l2 == 0] = 1\n",
    "    return X / np.expand_dims(l2, axis)"
   ]
  },
  {
   "cell_type": "code",
   "execution_count": 4,
   "metadata": {},
   "outputs": [],
   "source": [
    "# ReLu и её производная\n",
    "def ReLU(x):\n",
    "    return x  *  (x  >  0) \n",
    "# вычисление производной от Relu функции\n",
    "def ReLU_deriv(x):\n",
    "    return x > 0\n",
    "\n",
    "# Leaky_ReLu и её производная\n",
    "def L_ReLU(x): \n",
    "    return x  *  ((x  >  0) + 0.01)\n",
    "\n",
    "# вычисление производной от Relu функции\n",
    "def L_relu_deriv(x):\n",
    "    return ((x>0) + 0.01)"
   ]
  },
  {
   "cell_type": "code",
   "execution_count": 5,
   "metadata": {},
   "outputs": [],
   "source": [
    "### Шаг 2. Подготовка тренировочных данных\n",
    "# получения данных из csv файла. укажите здесь путь к файлу Iris.csv\n",
    "iris_data = pd.read_csv(\"Iris.csv\")\n",
    "# print(iris_data.head()) # расскоментируйте, чтобы посмотреть структуру данных\n",
    "\n",
    "# репрезентация данных в виде графиков\n",
    "# g = sns.pairplot(iris_data.drop(\"Id\", axis=1), hue=\"Species\")\n",
    "# plt.show() # расскоментируйте, чтобы посмотреть\n",
    "\n",
    "# замена текстовых значений на цифровые\n",
    "iris_data['Species'].replace(['Iris-setosa', 'Iris-virginica', 'Iris-versicolor'], [0, 1, 2], inplace=True)\n",
    "\n",
    "# формирование входных данных\n",
    "columns = ['SepalLengthCm', 'SepalWidthCm', 'PetalLengthCm', 'PetalWidthCm']\n",
    "x = pd.DataFrame(iris_data, columns=columns)\n",
    "#x = normalize(x.as_matrix())\n",
    "x = normalize(x.values)\n",
    "\n",
    "# формирование выходных данных(результатов)\n",
    "columns = ['Species']\n",
    "y = pd.DataFrame(iris_data, columns=columns)\n",
    "#y = y.as_matrix()\n",
    "y = y.values\n",
    "y = y.flatten()\n",
    "y = to_one_hot(y)\n",
    "\n",
    "# Разделение данных на тренировочные и тестовые\n",
    "X_train, X_test, y_train, y_test = train_test_split(x, y, test_size=0.2)"
   ]
  },
  {
   "cell_type": "code",
   "execution_count": 6,
   "metadata": {},
   "outputs": [],
   "source": [
    "# w0 = np.random.random((4, neuron_numb))\n",
    "# w0"
   ]
  },
  {
   "cell_type": "code",
   "execution_count": 15,
   "metadata": {},
   "outputs": [
    {
     "data": {
      "image/png": "[encoded data removed]",
      "text/plain": [
       "<Figure size 1152x360 with 1 Axes>"
      ]
     },
     "metadata": {
      "needs_background": "light"
     },
     "output_type": "display_data"
    },
    {
     "name": "stdout",
     "output_type": "stream",
     "text": [
      "Аккуратность нейронной сети 97.26%\n",
      "Аккуратность нейронной сети на тесте 98.42%\n"
     ]
    }
   ],
   "source": [
    "### Шаг 3. Обученние нейронной сети\n",
    "\n",
    "# определим число нейронов скрытого слоя\n",
    "neuron_numb = 5\n",
    "\n",
    "# присваевание случайных весов\n",
    "w0 = 2*np.random.random((4, neuron_numb)) - 1 \n",
    "w1 = 2*np.random.random((neuron_numb, neuron_numb)) - 1 \n",
    "# w2 = 2*np.random.random((neuron_numb, neuron_numb)) - 1\n",
    "w2 = 2*np.random.random((neuron_numb, 3)) - 1\n",
    "\n",
    "# w0 = np.random.random((4, neuron_numb))\n",
    "# w1 = np.random.random((neuron_numb, neuron_numb))\n",
    "# w2 = np.random.random((neuron_numb, 3))\n",
    "\n",
    "# скорость обучения (learning rate)\n",
    "n = 0.1\n",
    "\n",
    "# массив для ошибок, чтобы потом построить график\n",
    "errors = []\n",
    "\n",
    "# число этох\n",
    "ephos = 10000\n",
    "\n",
    "# процесс обучения\n",
    "for i in range(ephos):\n",
    "\n",
    "    # прямое распространение(feed forward)\n",
    "    layer0 = X_train\n",
    "    layer1 = sigmoid(np.dot(layer0, w0))\n",
    "    layer2 = sigmoid(np.dot(layer1, w1))\n",
    "    \n",
    "#     layer1 = ReLU(np.dot(layer0, w0))\n",
    "#     layer2 = ReLU(np.dot(layer1, w1))\n",
    "    \n",
    "    layer3 = sigmoid(np.dot(layer2, w2))\n",
    "##     layer4 = sigmoid(np.dot(layer3, w3))  \n",
    "    \n",
    "\n",
    "    # обратное распространение(back propagation) с использованием градиентного спуска\n",
    "    \n",
    "    layer3_error = y_train - layer3 # производная функции потерь = производная квадратичных потерь \n",
    "    layer3_delta = layer3_error * sigmoid_deriv(layer3)\n",
    "#     layer3_delta = layer3_error * ReLU_deriv(layer3)\n",
    "    \n",
    "\n",
    "#     layer3_error = layer4_delta.dot(w3.T)\n",
    "#     layer3_delta = layer3_error * sigmoid_deriv(layer3) \n",
    "    \n",
    "    layer2_error = layer3_delta.dot(w2.T)\n",
    "    layer2_delta = layer2_error * sigmoid_deriv(layer2)  \n",
    "#     layer2_delta = layer2_error * ReLU_deriv(layer2)  \n",
    "    \n",
    "    \n",
    "    layer1_error = layer2_delta.dot(w1.T)\n",
    "    layer1_delta = layer1_error * sigmoid_deriv(layer1)\n",
    "#     layer1_delta = layer1_error * ReLU_deriv(layer1)\n",
    "\n",
    "#     w3 += layer3.T.dot(layer4_delta) * n\n",
    "    w2 += layer2.T.dot(layer3_delta) * n\n",
    "    w1 += layer1.T.dot(layer2_delta) * n\n",
    "    w0 += layer0.T.dot(layer1_delta) * n\n",
    "    \n",
    "    # метрика модели\n",
    "    error = np.mean(np.abs(layer3_error))\n",
    "    errors.append(error)\n",
    "    accuracy = (1 - error) * 100\n",
    "\n",
    "\n",
    "### Шаг 4. Демонстрация полученных результатов\n",
    "# черчение диаграммы точности в зависимости от обучения\n",
    "plt.figure(figsize = (16,5))\n",
    "plt.plot(errors)\n",
    "plt.xlabel('Обучение')\n",
    "plt.ylabel('Ошибка')\n",
    "plt.show() # расскоментируйте, чтобы посмотреть \n",
    "\n",
    "# N = 50\n",
    "# plt.figure(figsize = (16,5))\n",
    "# plt.plot(layer2[:N,1], 'r',label = 'Y new')\n",
    "# plt.plot(y_train[:N,1],'g', label = 'Y train')\n",
    "# plt.xlabel('№ примера')\n",
    "# plt.ylabel('выход сети и целевой')\n",
    "# plt.legend( )\n",
    "# plt.show() # расскоментируйте, чтобы посмотреть     \n",
    "    \n",
    "print(\"Аккуратность нейронной сети \" + str(round(accuracy,2)) + \"%\")\n",
    "\n",
    "\n",
    "# прямое распространение(feed forward)\n",
    "layer0_t = X_test\n",
    "layer1_t = sigmoid(np.dot(layer0_t, w0))\n",
    "layer2_t = sigmoid(np.dot(layer1_t, w1))\n",
    "layer3_t = sigmoid(np.dot(layer2_t, w2))\n",
    "# layer1_t = ReLU(np.dot(layer0_t, w0))\n",
    "# layer2_t = ReLU(np.dot(layer1_t, w1))\n",
    "# layer3_t = sigmoid(np.dot(layer2_t, w2))\n",
    "layer3_error_t = y_test - layer3_t\n",
    "    \n",
    "    \n",
    "# N = 50\n",
    "# plt.figure(figsize = (16,5))\n",
    "# plt.plot(layer2_t[:N,1], 'r',label = 'Y new')\n",
    "# plt.plot(y_test[:N,1],'g', label = 'Y train')\n",
    "# plt.xlabel('№ примера')\n",
    "# plt.ylabel('выход сети и целевой')\n",
    "# plt.legend( )\n",
    "# plt.show() # расскоментируйте, чтобы посмотреть\n",
    "\n",
    "# метрика модели\n",
    "error_t = np.mean(np.abs(layer3_error_t))\n",
    "accuracy_t = (1 - error_t) * 100\n",
    "print(\"Аккуратность нейронной сети на тесте \" + str(round(accuracy_t,2)) + \"%\")"
   ]
  },
  {
   "cell_type": "code",
   "execution_count": null,
   "metadata": {},
   "outputs": [],
   "source": [
    "# w0"
   ]
  },
  {
   "cell_type": "code",
   "execution_count": 64,
   "metadata": {},
   "outputs": [],
   "source": [
    "# layer2"
   ]
  }
 ],
 "metadata": {
  "kernelspec": {
   "display_name": "Python 3",
   "language": "python",
   "name": "python3"
  },
  "language_info": {
   "codemirror_mode": {
    "name": "ipython",
    "version": 3
   },
   "file_extension": ".py",
   "mimetype": "text/x-python",
   "name": "python",
   "nbconvert_exporter": "python",
   "pygments_lexer": "ipython3",
   "version": "3.8.5"
  }
 },
 "nbformat": 4,
 "nbformat_minor": 5
}
