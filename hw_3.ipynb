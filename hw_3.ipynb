{
 "cells": [
  {
   "cell_type": "markdown",
   "id": "29938810",
   "metadata": {},
   "source": [
    "## Практическое задание\n",
    "\n",
    "  1. Постройте нейронную сеть(берем простую линейную сеть, которую разбирали на уроке: меняем число слоев, число нейронов , типы активации, тип оптимизатора)  на датасет from sklearn.datasets import load_boston. \n",
    "  2. Измените функцию потерь и метрику для этой задачи. Постройте 10-15 вариантов и сведите результаты их работы в таблицу  Опишите, какого результата вы добились от нейросети? Что помогло вам улучшить ее точность?\n",
    "\n",
    "  3. Поработайте с документацией TensorFlow 2. Найти 2-3 полезные команды TensorFlow, не разобранные на уроке (полезные для Вас).\n",
    "\n",
    "  1-2. (*)  Попробуйте обучить нейронную сеть на TensorFlow 2 на датасете imdb_reviews .Опишите, какого результата вы добились от нейросети? Что помогло вам улучшить ее точность?\n",
    "    \n"
   ]
  },
  {
   "cell_type": "code",
   "execution_count": null,
   "id": "f2ed1897",
   "metadata": {},
   "outputs": [],
   "source": []
  },
  {
   "cell_type": "markdown",
   "id": "a26f186d",
   "metadata": {},
   "source": [
    "###  `1. Постройте нейронную сеть(берем простую линейную сеть, которую разбирали на уроке: меняем число слоев, число нейронов , типы активации, тип оптимизатора)  на датасет from sklearn.datasets import load_boston.`"
   ]
  },
  {
   "cell_type": "code",
   "execution_count": 1,
   "id": "6ec5cdfb",
   "metadata": {},
   "outputs": [],
   "source": [
    "# загружаем данные\n",
    "\n",
    "import numpy as np\n",
    "import pandas as pd\n",
    "import matplotlib.pyplot as plt\n",
    "\n",
    "from keras.datasets import boston_housing\n",
    "\n",
    "(train_data, train_targets), (test_data, test_targets) = boston_housing.load_data()"
   ]
  },
  {
   "cell_type": "code",
   "execution_count": 2,
   "id": "05fc8406",
   "metadata": {},
   "outputs": [
    {
     "name": "stdout",
     "output_type": "stream",
     "text": [
      "(404, 13)\n",
      "(102, 13)\n"
     ]
    }
   ],
   "source": [
    "# смотрим, что загрузилось\n",
    "\n",
    "print(train_data.shape)\n",
    "print(test_data.shape)"
   ]
  },
  {
   "cell_type": "code",
   "execution_count": 3,
   "id": "82d79119",
   "metadata": {},
   "outputs": [],
   "source": [
    "# нормализуем данные\n",
    "\n",
    "from sklearn.preprocessing import StandardScaler\n",
    "\n",
    "scaler = StandardScaler()\n",
    "\n",
    "df_norm = train_data.copy()\n",
    "df_norm = scaler.fit_transform(df_norm)\n",
    "train_data = df_norm.copy()\n",
    "\n",
    "df_norm = test_data.copy()\n",
    "df_norm = scaler.fit_transform(df_norm)\n",
    "test_data = df_norm.copy()"
   ]
  },
  {
   "cell_type": "code",
   "execution_count": 4,
   "id": "3d5c8e23",
   "metadata": {},
   "outputs": [],
   "source": [
    "# заготовка модели для запусков и экспериментов\n",
    "\n",
    "from keras import models\n",
    "from keras import layers\n",
    "\n",
    "def run_madel(loss_='mse',metrics_=['mae'], verbose_=1, n_neiro=128, epochs=10, batch_size=1):\n",
    "    \n",
    "    model = models.Sequential()\n",
    "    model.add(layers.Dense(64, activation='relu', input_shape=(train_data.shape[1],)))\n",
    "    model.add(layers.Dense(n_neiro, activation='relu'))\n",
    "    model.add(layers.Dense(n_neiro, activation='relu'))\n",
    "    model.add(layers.Dense(1, activation='relu'))\n",
    "\n",
    "    model.compile(optimizer='adam',\n",
    "                  loss=loss_,\n",
    "                  metrics=metrics_)\n",
    "    \n",
    "     # учим сеть\n",
    "    history = model.fit(\n",
    "        train_data, \n",
    "        train_targets, \n",
    "        epochs=epochs, \n",
    "        batch_size=batch_size, \n",
    "    #     validation_split=0.2, \n",
    "        verbose=verbose_\n",
    "    )   \n",
    "    \n",
    "    # смотрим результаты\n",
    "    loss, metrics = model.evaluate(test_data, test_targets, verbose=verbose_)\n",
    "    \n",
    "    return loss, metrics"
   ]
  },
  {
   "cell_type": "code",
   "execution_count": 5,
   "id": "a6bcf011",
   "metadata": {},
   "outputs": [
    {
     "name": "stdout",
     "output_type": "stream",
     "text": [
      "Epoch 1/10\n",
      "404/404 [==============================] - 1s 688us/step - loss: 183.7813 - mae: 10.3399\n",
      "Epoch 2/10\n",
      "404/404 [==============================] - 0s 692us/step - loss: 15.2238 - mae: 2.9202\n",
      "Epoch 3/10\n",
      "404/404 [==============================] - 0s 685us/step - loss: 12.8787 - mae: 2.6666\n",
      "Epoch 4/10\n",
      "404/404 [==============================] - 0s 680us/step - loss: 12.8423 - mae: 2.6591\n",
      "Epoch 5/10\n",
      "404/404 [==============================] - 0s 694us/step - loss: 9.7174 - mae: 2.2617\n",
      "Epoch 6/10\n",
      "404/404 [==============================] - 0s 717us/step - loss: 8.8323 - mae: 2.1822\n",
      "Epoch 7/10\n",
      "404/404 [==============================] - 0s 699us/step - loss: 9.7516 - mae: 2.2597\n",
      "Epoch 8/10\n",
      "404/404 [==============================] - 0s 672us/step - loss: 8.7986 - mae: 2.2136\n",
      "Epoch 9/10\n",
      "404/404 [==============================] - 0s 670us/step - loss: 8.8501 - mae: 2.1845\n",
      "Epoch 10/10\n",
      "404/404 [==============================] - 0s 722us/step - loss: 9.7867 - mae: 2.3178\n",
      "4/4 [==============================] - 0s 1ms/step - loss: 24.9543 - mae: 3.0664\n",
      "loss = 24.954250, metrics= 3.066412\n"
     ]
    }
   ],
   "source": [
    "# смотрим, значени по-умолчанию\n",
    "\n",
    "print('loss = %f, metrics= %f' % run_madel(verbose_ = 1))"
   ]
  },
  {
   "cell_type": "code",
   "execution_count": null,
   "id": "77a872b9",
   "metadata": {},
   "outputs": [],
   "source": []
  },
  {
   "cell_type": "markdown",
   "id": "4e56ade1",
   "metadata": {},
   "source": [
    "###  `2. Измените функцию потерь и метрику для этой задачи. Постройте 10-15 вариантов и сведите результаты их работы в таблицу  Опишите, какого результата вы добились от нейросети? Что помогло вам улучшить ее точность?`"
   ]
  },
  {
   "cell_type": "code",
   "execution_count": 6,
   "id": "5306db8b",
   "metadata": {},
   "outputs": [
    {
     "name": "stdout",
     "output_type": "stream",
     "text": [
      "loss = 3.116613, metrics= 0.052575\n",
      "loss = 3.280751, metrics= 26.110519\n",
      "loss = 2.965489, metrics= 14.761155\n",
      "loss = 16.832453, metrics= 0.065467\n",
      "loss = 15.025831, metrics= 20.189882\n",
      "loss = 15.931511, metrics= 15.931511\n",
      "loss = 0.038507, metrics= 0.038507\n",
      "loss = 0.041240, metrics= 19.614079\n",
      "loss = 0.044105, metrics= 15.497736\n",
      "loss = 2.306152, metrics= 0.038664\n",
      "loss = 2.572481, metrics= 22.699156\n",
      "loss = 2.302331, metrics= 14.308604\n"
     ]
    }
   ],
   "source": [
    "loss_ = ['mae', 'mape', 'msle', 'LogCosh']\n",
    "metrics_ = [['msle'], ['mse'], ['mape']]\n",
    "\n",
    "for loss in loss_:\n",
    "    for metrics in metrics_:\n",
    "        print('loss = %f, metrics= %f' % run_madel(loss_=loss, metrics_ = metrics, verbose_ = 0))\n"
   ]
  },
  {
   "cell_type": "markdown",
   "id": "01054883",
   "metadata": {},
   "source": [
    "`Как мы можем сравнивать результаты по разным метрикам?`\n",
    "\n",
    "`Ниже пробую разные комбинации параметров и ищу лучший результат.`"
   ]
  },
  {
   "cell_type": "code",
   "execution_count": 44,
   "id": "9bcf661b",
   "metadata": {},
   "outputs": [
    {
     "name": "stdout",
     "output_type": "stream",
     "text": [
      "* * * * * * * * * * * * * * * * \n",
      "Лучшие параметры Нейроны/Эпохи/Батч/Accuracy:  [512, 15, 10, 2.740905523300171]\n"
     ]
    }
   ],
   "source": [
    "n_neiro_ = [128,256,512,1024]\n",
    "epochs_ = [3,5,10,15]\n",
    "batch_size_ = [10,50,100,200]\n",
    "\n",
    "mae_min = 100\n",
    "result = [0,0,0,0]\n",
    "\n",
    "for n_neiro in n_neiro_:\n",
    "    for epochs in epochs_:\n",
    "        print('*', end =\" \")\n",
    "        for batch_size in batch_size_:\n",
    "            res = run_madel(n_neiro=n_neiro, epochs=epochs, batch_size=batch_size, verbose_ = 0)\n",
    "            if res[1] < mae_min:\n",
    "                mae_min = res[1]\n",
    "                result = [n_neiro, epochs, batch_size, mae_min]\n",
    "                \n",
    "print('')\n",
    "print('Лучшие параметры Нейроны/Эпохи/Батч/Accuracy: ', result)"
   ]
  },
  {
   "cell_type": "code",
   "execution_count": 46,
   "id": "854b6292",
   "metadata": {},
   "outputs": [
    {
     "data": {
      "text/plain": [
       "(15.217385292053223, 2.584104537963867)"
      ]
     },
     "execution_count": 46,
     "metadata": {},
     "output_type": "execute_result"
    }
   ],
   "source": [
    "res = run_madel(n_neiro=512, epochs=15, batch_size=10, verbose_ = 0)\n",
    "res"
   ]
  },
  {
   "cell_type": "code",
   "execution_count": null,
   "id": "8cce58ba",
   "metadata": {},
   "outputs": [],
   "source": []
  },
  {
   "cell_type": "markdown",
   "id": "fe1b7ddd",
   "metadata": {},
   "source": [
    "###  `Ниже для себя: Ищу лучшие параметры для fashion_mnist`"
   ]
  },
  {
   "cell_type": "code",
   "execution_count": 47,
   "id": "ab2a72b0",
   "metadata": {},
   "outputs": [],
   "source": [
    "# загружаем fashion_mnist\n",
    "\n",
    "from tensorflow import keras\n",
    "from tensorflow.keras.utils import to_categorical\n",
    "\n",
    "fashion_mnist = keras.datasets.fashion_mnist\n",
    "(train_images, train_labels), (test_images, test_labels) = fashion_mnist.load_data()"
   ]
  },
  {
   "cell_type": "code",
   "execution_count": 48,
   "id": "b98345dd",
   "metadata": {},
   "outputs": [],
   "source": [
    "# подготовка данных\n",
    "\n",
    "y_train_labels = to_categorical(train_labels)\n",
    "y_test_labels = to_categorical(test_labels)\n",
    "\n",
    "train_images = train_images / 255.0\n",
    "test_images = test_images / 255.0"
   ]
  },
  {
   "cell_type": "code",
   "execution_count": 49,
   "id": "4f3de1cc",
   "metadata": {},
   "outputs": [],
   "source": [
    "# заготовка модели для запусков и экспериментов\n",
    "\n",
    "from tensorflow.keras.layers import Input, Flatten\n",
    "from tensorflow.keras.models import Model\n",
    "import tensorflow as tf\n",
    "\n",
    "\n",
    "def model_run(n_neiro = 128, epochs=10, batch_size=100):\n",
    "    inputs = Input(shape=(28, 28))\n",
    "    x_1 = keras.layers.Flatten()(inputs)\n",
    "    x = keras.layers.Dense(n_neiro, activation='relu')(x_1)\n",
    "    outputs = keras.layers.Dense(10)(x)\n",
    "\n",
    "    model = keras.Model(inputs, outputs)\n",
    "\n",
    "    # model.summary()\n",
    "\n",
    "    model.compile(optimizer='adam',   \n",
    "                  loss=tf.keras.losses.CategoricalCrossentropy(from_logits=True),\n",
    "                  metrics = 'accuracy')\n",
    "\n",
    "    history = model.fit(train_images, y_train_labels, epochs=epochs, batch_size=batch_size, verbose=0)\n",
    "\n",
    "    test_loss, test_acc = model.evaluate(test_images,  y_test_labels, verbose=0)\n",
    "#     print('Кол-воНейр=',n_neiro, 'Эпох=',epochs, 'РазмБатча=',batch_size, 'Метрика=',test_acc)\n",
    "\n",
    "    return n_neiro, epochs, batch_size, test_acc\n"
   ]
  },
  {
   "cell_type": "code",
   "execution_count": 50,
   "id": "addfdc22",
   "metadata": {},
   "outputs": [
    {
     "name": "stdout",
     "output_type": "stream",
     "text": [
      "(128, 10, 100, 0.8847000002861023)\n"
     ]
    }
   ],
   "source": [
    "# смотрим результаты с параметрами по-умолчанию\n",
    "\n",
    "print(model_run())"
   ]
  },
  {
   "cell_type": "code",
   "execution_count": 51,
   "id": "0b75de9b",
   "metadata": {},
   "outputs": [
    {
     "name": "stdout",
     "output_type": "stream",
     "text": [
      "* * * * * * * * * * * * * * * * \n",
      "Лучшие параметры Нейроны/Эпохи/Батч/Accuracy:  (512, 15, 50, 0.8960999846458435)\n"
     ]
    }
   ],
   "source": [
    "# в цикле ищем лучшие параметры\n",
    "\n",
    "n_neiro_ = [128,256,512,1024]\n",
    "epochs_ = [3,5,10,15]\n",
    "batch_size_ = [10,50,100,200]\n",
    "\n",
    "\n",
    "# for i in range(5):\n",
    "#     model_run()\n",
    "acc_max = [0,0,0,0]\n",
    "\n",
    "\n",
    "for n_neiro in n_neiro_:\n",
    "    for epochs in epochs_:\n",
    "        print('*', end =\" \")\n",
    "        for batch_size in batch_size_:\n",
    "            res = model_run(n_neiro=n_neiro, epochs=epochs, batch_size=batch_size)\n",
    "            if res[3] > acc_max[3]:\n",
    "                acc_max = res\n",
    "print('')\n",
    "print('Лучшие параметры Нейроны/Эпохи/Батч/Accuracy: ', acc_max)"
   ]
  },
  {
   "cell_type": "markdown",
   "id": "01e0d837",
   "metadata": {},
   "source": [
    "`Вывод: без сверточных слоев сильно увеличить точно не получатеся. Максимум .88-.89 `"
   ]
  },
  {
   "cell_type": "code",
   "execution_count": null,
   "id": "8cd61503",
   "metadata": {},
   "outputs": [],
   "source": []
  },
  {
   "cell_type": "markdown",
   "id": "52ecf7bc",
   "metadata": {},
   "source": [
    "# 1-2. (*) Попробуйте обучить нейронную сеть на TensorFlow 2 на датасете imdb_reviews .Опишите, какого результата вы добились от нейросети? Что помогло вам улучшить ее точность?"
   ]
  },
  {
   "cell_type": "code",
   "execution_count": 52,
   "id": "94a67cbc",
   "metadata": {},
   "outputs": [],
   "source": [
    "import tensorflow as tf\n",
    "from tensorflow import keras\n",
    "\n",
    "import numpy as np"
   ]
  },
  {
   "cell_type": "code",
   "execution_count": 53,
   "id": "ffb02582",
   "metadata": {},
   "outputs": [],
   "source": [
    "imdb = keras.datasets.imdb"
   ]
  },
  {
   "cell_type": "code",
   "execution_count": 54,
   "id": "cedc6fbb",
   "metadata": {},
   "outputs": [
    {
     "name": "stderr",
     "output_type": "stream",
     "text": [
      "<__array_function__ internals>:5: VisibleDeprecationWarning: Creating an ndarray from ragged nested sequences (which is a list-or-tuple of lists-or-tuples-or ndarrays with different lengths or shapes) is deprecated. If you meant to do this, you must specify 'dtype=object' when creating the ndarray.\n",
      "C:\\ProgramData\\Anaconda3\\lib\\site-packages\\tensorflow-2.4.1-py3.8-win-amd64.egg\\tensorflow\\python\\keras\\datasets\\imdb.py:159: VisibleDeprecationWarning: Creating an ndarray from ragged nested sequences (which is a list-or-tuple of lists-or-tuples-or ndarrays with different lengths or shapes) is deprecated. If you meant to do this, you must specify 'dtype=object' when creating the ndarray.\n",
      "  x_train, y_train = np.array(xs[:idx]), np.array(labels[:idx])\n",
      "C:\\ProgramData\\Anaconda3\\lib\\site-packages\\tensorflow-2.4.1-py3.8-win-amd64.egg\\tensorflow\\python\\keras\\datasets\\imdb.py:160: VisibleDeprecationWarning: Creating an ndarray from ragged nested sequences (which is a list-or-tuple of lists-or-tuples-or ndarrays with different lengths or shapes) is deprecated. If you meant to do this, you must specify 'dtype=object' when creating the ndarray.\n",
      "  x_test, y_test = np.array(xs[idx:]), np.array(labels[idx:])\n"
     ]
    }
   ],
   "source": [
    "(train_data, train_labels), (test_data, test_labels) = imdb.load_data(num_words=10000)"
   ]
  },
  {
   "cell_type": "code",
   "execution_count": 55,
   "id": "d0f2eee6",
   "metadata": {},
   "outputs": [
    {
     "name": "stdout",
     "output_type": "stream",
     "text": [
      "(25000,)\n",
      "(25000,)\n"
     ]
    }
   ],
   "source": [
    "print(train_data.shape)\n",
    "print(test_data.shape)"
   ]
  },
  {
   "cell_type": "code",
   "execution_count": 56,
   "id": "c6822765",
   "metadata": {},
   "outputs": [
    {
     "data": {
      "text/plain": [
       "(218, 189)"
      ]
     },
     "execution_count": 56,
     "metadata": {},
     "output_type": "execute_result"
    }
   ],
   "source": [
    "len(train_data[0]), len(train_data[1])"
   ]
  },
  {
   "cell_type": "code",
   "execution_count": 57,
   "id": "fab24fcf",
   "metadata": {},
   "outputs": [],
   "source": [
    "# # Индексы словаря связи слов и соотвествующих им чисел\n",
    "# word_index = imdb.get_word_index()\n",
    "\n",
    "# # Первые индексы зарезервированы\n",
    "# word_index = {k:(v+3) for k,v in word_index.items()}\n",
    "# word_index[\"\"] = 0\n",
    "# word_index[\"\"] = 1\n",
    "# word_index[\"\"] = 2 # unknown\n",
    "# word_index[\"\"] = 3\n",
    "\n",
    "# reverse_word_index = dict([(value, key) for (key, value) in word_index.items()])\n",
    "\n",
    "# def decode_review(text):\n",
    "#     return ' '.join([reverse_word_index.get(i, '?') for i in text])"
   ]
  },
  {
   "cell_type": "code",
   "execution_count": 58,
   "id": "d51209fc",
   "metadata": {},
   "outputs": [],
   "source": [
    "# decode_review(train_data[1])"
   ]
  },
  {
   "cell_type": "code",
   "execution_count": 59,
   "id": "03054ced",
   "metadata": {},
   "outputs": [],
   "source": [
    "# стандартизируем длину примеров\n",
    "\n",
    "train_data = keras.preprocessing.sequence.pad_sequences(\n",
    "    train_data, \n",
    "#     value=word_index[\"\"], \n",
    "    padding='post', \n",
    "    maxlen=256)\n",
    "\n",
    "test_data = keras.preprocessing.sequence.pad_sequences(\n",
    "    test_data, \n",
    "#     value=word_index[\"\"], \n",
    "    padding='post', \n",
    "    maxlen=256)"
   ]
  },
  {
   "cell_type": "code",
   "execution_count": 60,
   "id": "0307e5fb",
   "metadata": {},
   "outputs": [
    {
     "data": {
      "text/plain": [
       "(256, 256)"
      ]
     },
     "execution_count": 60,
     "metadata": {},
     "output_type": "execute_result"
    }
   ],
   "source": [
    "len(train_data[0]), len(train_data[1])"
   ]
  },
  {
   "cell_type": "code",
   "execution_count": 61,
   "id": "90dee64e",
   "metadata": {},
   "outputs": [
    {
     "name": "stdout",
     "output_type": "stream",
     "text": [
      "Model: \"sequential_300\"\n",
      "_________________________________________________________________\n",
      "Layer (type)                 Output Shape              Param #   \n",
      "=================================================================\n",
      "embedding (Embedding)        (None, None, 16)          160000    \n",
      "_________________________________________________________________\n",
      "global_average_pooling1d (Gl (None, 16)                0         \n",
      "_________________________________________________________________\n",
      "dense_1330 (Dense)           (None, 256)               4352      \n",
      "_________________________________________________________________\n",
      "dense_1331 (Dense)           (None, 256)               65792     \n",
      "_________________________________________________________________\n",
      "dense_1332 (Dense)           (None, 1)                 257       \n",
      "=================================================================\n",
      "Total params: 230,401\n",
      "Trainable params: 230,401\n",
      "Non-trainable params: 0\n",
      "_________________________________________________________________\n"
     ]
    }
   ],
   "source": [
    "# вводная форма - размер словаря, используемого для отзывов (10 000 слов)\n",
    "vocab_size = 10000\n",
    "\n",
    "model = keras.Sequential()\n",
    "model.add(keras.layers.Embedding(vocab_size, 16))\n",
    "model.add(keras.layers.GlobalAveragePooling1D())\n",
    "model.add(keras.layers.Dense(256, activation='relu'))\n",
    "model.add(keras.layers.Dense(256, activation='relu'))\n",
    "\n",
    "model.add(keras.layers.Dense(1, activation='sigmoid'))\n",
    "\n",
    "model.summary()"
   ]
  },
  {
   "cell_type": "code",
   "execution_count": 62,
   "id": "d49e35ee",
   "metadata": {},
   "outputs": [],
   "source": [
    "model.compile(optimizer='adam',\n",
    "              loss='binary_crossentropy',\n",
    "              metrics=['accuracy'])"
   ]
  },
  {
   "cell_type": "code",
   "execution_count": 63,
   "id": "08e4d707",
   "metadata": {},
   "outputs": [
    {
     "name": "stdout",
     "output_type": "stream",
     "text": [
      "Epoch 1/50\n",
      "79/79 [==============================] - 2s 12ms/step - loss: 0.6818 - accuracy: 0.5571 - val_loss: 0.4443 - val_accuracy: 0.8146\n",
      "Epoch 2/50\n",
      "79/79 [==============================] - 1s 10ms/step - loss: 0.3471 - accuracy: 0.8621 - val_loss: 0.3030 - val_accuracy: 0.8754\n",
      "Epoch 3/50\n",
      "79/79 [==============================] - 1s 9ms/step - loss: 0.2231 - accuracy: 0.9179 - val_loss: 0.2939 - val_accuracy: 0.8824\n",
      "Epoch 4/50\n",
      "79/79 [==============================] - 1s 9ms/step - loss: 0.1677 - accuracy: 0.9393 - val_loss: 0.2926 - val_accuracy: 0.8880\n",
      "Epoch 5/50\n",
      "79/79 [==============================] - 1s 10ms/step - loss: 0.1316 - accuracy: 0.9552 - val_loss: 0.3173 - val_accuracy: 0.8844\n",
      "Epoch 6/50\n",
      "79/79 [==============================] - 1s 10ms/step - loss: 0.1068 - accuracy: 0.9648 - val_loss: 0.3506 - val_accuracy: 0.8834\n",
      "Epoch 7/50\n",
      "79/79 [==============================] - 1s 10ms/step - loss: 0.0801 - accuracy: 0.9762 - val_loss: 0.3891 - val_accuracy: 0.8796\n",
      "Epoch 8/50\n",
      "79/79 [==============================] - 1s 10ms/step - loss: 0.0766 - accuracy: 0.9757 - val_loss: 0.4234 - val_accuracy: 0.8792\n",
      "Epoch 9/50\n",
      "79/79 [==============================] - 1s 10ms/step - loss: 0.0518 - accuracy: 0.9869 - val_loss: 0.4677 - val_accuracy: 0.8756\n",
      "Epoch 10/50\n",
      "79/79 [==============================] - 1s 10ms/step - loss: 0.0419 - accuracy: 0.9894 - val_loss: 0.5328 - val_accuracy: 0.8714\n",
      "Epoch 11/50\n",
      "79/79 [==============================] - 1s 10ms/step - loss: 0.0363 - accuracy: 0.9906 - val_loss: 0.5624 - val_accuracy: 0.8722\n",
      "Epoch 12/50\n",
      "79/79 [==============================] - 1s 10ms/step - loss: 0.0217 - accuracy: 0.9959 - val_loss: 0.6113 - val_accuracy: 0.8716\n",
      "Epoch 13/50\n",
      "79/79 [==============================] - 1s 10ms/step - loss: 0.0179 - accuracy: 0.9968 - val_loss: 0.6713 - val_accuracy: 0.8684\n",
      "Epoch 14/50\n",
      "79/79 [==============================] - 1s 10ms/step - loss: 0.0165 - accuracy: 0.9972 - val_loss: 0.7050 - val_accuracy: 0.8696\n",
      "Epoch 15/50\n",
      "79/79 [==============================] - 1s 10ms/step - loss: 0.0100 - accuracy: 0.9989 - val_loss: 0.7765 - val_accuracy: 0.8632\n",
      "Epoch 16/50\n",
      "79/79 [==============================] - 1s 10ms/step - loss: 0.0117 - accuracy: 0.9979 - val_loss: 0.8133 - val_accuracy: 0.8648\n",
      "Epoch 17/50\n",
      "79/79 [==============================] - 1s 9ms/step - loss: 0.0057 - accuracy: 0.9995 - val_loss: 0.8404 - val_accuracy: 0.8652\n",
      "Epoch 18/50\n",
      "79/79 [==============================] - 1s 9ms/step - loss: 0.0042 - accuracy: 0.9997 - val_loss: 0.8841 - val_accuracy: 0.8652\n",
      "Epoch 19/50\n",
      "79/79 [==============================] - 1s 10ms/step - loss: 0.0027 - accuracy: 0.9999 - val_loss: 0.9130 - val_accuracy: 0.8658\n",
      "Epoch 20/50\n",
      "79/79 [==============================] - 1s 9ms/step - loss: 0.0024 - accuracy: 0.9998 - val_loss: 0.9471 - val_accuracy: 0.8634\n",
      "Epoch 21/50\n",
      "79/79 [==============================] - 1s 9ms/step - loss: 0.0015 - accuracy: 0.9999 - val_loss: 0.9799 - val_accuracy: 0.8646\n",
      "Epoch 22/50\n",
      "79/79 [==============================] - 1s 9ms/step - loss: 0.0012 - accuracy: 1.0000 - val_loss: 1.0146 - val_accuracy: 0.8640\n",
      "Epoch 23/50\n",
      "79/79 [==============================] - 1s 10ms/step - loss: 0.0011 - accuracy: 0.9999 - val_loss: 1.0372 - val_accuracy: 0.8630\n",
      "Epoch 24/50\n",
      "79/79 [==============================] - 1s 9ms/step - loss: 7.0814e-04 - accuracy: 1.0000 - val_loss: 1.0681 - val_accuracy: 0.8640\n",
      "Epoch 25/50\n",
      "79/79 [==============================] - 1s 10ms/step - loss: 7.1902e-04 - accuracy: 1.0000 - val_loss: 1.0859 - val_accuracy: 0.8630\n",
      "Epoch 26/50\n",
      "79/79 [==============================] - 1s 10ms/step - loss: 5.3384e-04 - accuracy: 1.0000 - val_loss: 1.1037 - val_accuracy: 0.8632\n",
      "Epoch 27/50\n",
      "79/79 [==============================] - 1s 10ms/step - loss: 5.4732e-04 - accuracy: 1.0000 - val_loss: 1.1229 - val_accuracy: 0.8634\n",
      "Epoch 28/50\n",
      "79/79 [==============================] - 1s 10ms/step - loss: 5.7185e-04 - accuracy: 1.0000 - val_loss: 1.1477 - val_accuracy: 0.8638\n",
      "Epoch 29/50\n",
      "79/79 [==============================] - 1s 10ms/step - loss: 4.0737e-04 - accuracy: 1.0000 - val_loss: 1.1653 - val_accuracy: 0.8634\n",
      "Epoch 30/50\n",
      "79/79 [==============================] - 1s 10ms/step - loss: 3.3602e-04 - accuracy: 1.0000 - val_loss: 1.1813 - val_accuracy: 0.8618\n",
      "Epoch 31/50\n",
      "79/79 [==============================] - 1s 9ms/step - loss: 3.0980e-04 - accuracy: 1.0000 - val_loss: 1.2071 - val_accuracy: 0.8618\n",
      "Epoch 32/50\n",
      "79/79 [==============================] - 1s 10ms/step - loss: 3.5711e-04 - accuracy: 1.0000 - val_loss: 1.2157 - val_accuracy: 0.8616\n",
      "Epoch 33/50\n",
      "79/79 [==============================] - 1s 10ms/step - loss: 2.0466e-04 - accuracy: 1.0000 - val_loss: 1.2262 - val_accuracy: 0.8624\n",
      "Epoch 34/50\n",
      "79/79 [==============================] - 1s 10ms/step - loss: 2.2100e-04 - accuracy: 1.0000 - val_loss: 1.2449 - val_accuracy: 0.8604\n",
      "Epoch 35/50\n",
      "79/79 [==============================] - 1s 9ms/step - loss: 1.9767e-04 - accuracy: 1.0000 - val_loss: 1.2587 - val_accuracy: 0.8614\n",
      "Epoch 36/50\n",
      "79/79 [==============================] - ETA: 0s - loss: 1.8239e-04 - accuracy: 1.00 - 1s 10ms/step - loss: 1.8128e-04 - accuracy: 1.0000 - val_loss: 1.2696 - val_accuracy: 0.8602\n",
      "Epoch 37/50\n",
      "79/79 [==============================] - 1s 10ms/step - loss: 1.9008e-04 - accuracy: 1.0000 - val_loss: 1.2851 - val_accuracy: 0.8610\n",
      "Epoch 38/50\n",
      "79/79 [==============================] - 1s 10ms/step - loss: 1.3650e-04 - accuracy: 1.0000 - val_loss: 1.2943 - val_accuracy: 0.8600\n",
      "Epoch 39/50\n",
      "79/79 [==============================] - 1s 10ms/step - loss: 1.5872e-04 - accuracy: 1.0000 - val_loss: 1.3082 - val_accuracy: 0.8606\n",
      "Epoch 40/50\n",
      "79/79 [==============================] - 1s 10ms/step - loss: 1.2871e-04 - accuracy: 1.0000 - val_loss: 1.3183 - val_accuracy: 0.8606\n",
      "Epoch 41/50\n",
      "79/79 [==============================] - 1s 10ms/step - loss: 1.2343e-04 - accuracy: 1.0000 - val_loss: 1.3371 - val_accuracy: 0.8618A: 0s - loss: 1.1947e-0\n",
      "Epoch 42/50\n",
      "79/79 [==============================] - 1s 10ms/step - loss: 1.0988e-04 - accuracy: 1.0000 - val_loss: 1.3431 - val_accuracy: 0.8610\n",
      "Epoch 43/50\n",
      "79/79 [==============================] - 1s 10ms/step - loss: 1.0358e-04 - accuracy: 1.0000 - val_loss: 1.3541 - val_accuracy: 0.8614\n",
      "Epoch 44/50\n",
      "79/79 [==============================] - 1s 10ms/step - loss: 9.2061e-05 - accuracy: 1.0000 - val_loss: 1.3658 - val_accuracy: 0.8614\n",
      "Epoch 45/50\n",
      "79/79 [==============================] - 1s 10ms/step - loss: 8.3968e-05 - accuracy: 1.0000 - val_loss: 1.3754 - val_accuracy: 0.8614\n",
      "Epoch 46/50\n",
      "79/79 [==============================] - 1s 10ms/step - loss: 7.5738e-05 - accuracy: 1.0000 - val_loss: 1.3844 - val_accuracy: 0.8602\n",
      "Epoch 47/50\n",
      "79/79 [==============================] - 1s 10ms/step - loss: 7.3906e-05 - accuracy: 1.0000 - val_loss: 1.3960 - val_accuracy: 0.8602\n",
      "Epoch 48/50\n",
      "79/79 [==============================] - 1s 10ms/step - loss: 6.7186e-05 - accuracy: 1.0000 - val_loss: 1.4063 - val_accuracy: 0.8604\n",
      "Epoch 49/50\n",
      "79/79 [==============================] - 1s 10ms/step - loss: 6.3697e-05 - accuracy: 1.0000 - val_loss: 1.4155 - val_accuracy: 0.8610\n",
      "Epoch 50/50\n",
      "79/79 [==============================] - 1s 10ms/step - loss: 5.8522e-05 - accuracy: 1.0000 - val_loss: 1.4263 - val_accuracy: 0.8616\n"
     ]
    }
   ],
   "source": [
    "history = model.fit(train_data,\n",
    "                    train_labels,\n",
    "                    epochs=50,\n",
    "                    batch_size=256,\n",
    "                    validation_split=0.2,\n",
    "                    verbose=1)"
   ]
  },
  {
   "cell_type": "code",
   "execution_count": 64,
   "id": "ccdedc58",
   "metadata": {},
   "outputs": [
    {
     "name": "stdout",
     "output_type": "stream",
     "text": [
      "782/782 [==============================] - 1s 813us/step - loss: 1.5872 - accuracy: 0.8415\n",
      "[1.5872459411621094, 0.841480016708374]\n"
     ]
    }
   ],
   "source": [
    "results = model.evaluate(test_data, test_labels)\n",
    "\n",
    "print(results)"
   ]
  },
  {
   "cell_type": "code",
   "execution_count": 65,
   "id": "93707777",
   "metadata": {},
   "outputs": [
    {
     "data": {
      "image/png": "[encoded data removed]",
      "text/plain": [
       "<Figure size 432x288 with 1 Axes>"
      ]
     },
     "metadata": {
      "needs_background": "light"
     },
     "output_type": "display_data"
    }
   ],
   "source": [
    "import matplotlib.pyplot as plt\n",
    "\n",
    "acc = history.history['accuracy']\n",
    "val_acc = history.history['val_accuracy']\n",
    "loss = history.history['loss']\n",
    "val_loss = history.history['val_loss']\n",
    "\n",
    "epochs = range(1, len(acc) + 1)\n",
    "\n",
    "plt.plot(epochs, acc, 'bo', label='train acc')\n",
    "plt.plot(epochs, val_acc, 'b', label='valid acc')\n",
    "plt.xlabel('Эпохи')\n",
    "plt.ylabel('Loss')\n",
    "plt.legend()\n",
    "\n",
    "plt.show()"
   ]
  },
  {
   "cell_type": "markdown",
   "id": "f8230d6e",
   "metadata": {},
   "source": [
    "`Добиться приемлемого результата получилось только при использовании Embedding слоя.`\n",
    "\n",
    "`Без него точность не поднималась больше 54-55%`"
   ]
  },
  {
   "cell_type": "code",
   "execution_count": null,
   "id": "2dcde23c",
   "metadata": {},
   "outputs": [],
   "source": []
  }
 ],
 "metadata": {
  "kernelspec": {
   "display_name": "Python 3",
   "language": "python",
   "name": "python3"
  },
  "language_info": {
   "codemirror_mode": {
    "name": "ipython",
    "version": 3
   },
   "file_extension": ".py",
   "mimetype": "text/x-python",
   "name": "python",
   "nbconvert_exporter": "python",
   "pygments_lexer": "ipython3",
   "version": "3.8.8"
  }
 },
 "nbformat": 4,
 "nbformat_minor": 5
}
