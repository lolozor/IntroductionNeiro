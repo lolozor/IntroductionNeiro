{
  "nbformat": 4,
  "nbformat_minor": 5,
  "metadata": {
    "kernelspec": {
      "display_name": "Python 3",
      "language": "python",
      "name": "python3"
    },
    "language_info": {
      "codemirror_mode": {
        "name": "ipython",
        "version": 3
      },
      "file_extension": ".py",
      "mimetype": "text/x-python",
      "name": "python",
      "nbconvert_exporter": "python",
      "pygments_lexer": "ipython3",
      "version": "3.8.8"
    },
    "colab": {
      "name": "fashion_mnist_.ipynb",
      "provenance": [],
      "collapsed_sections": []
    },
    "accelerator": "GPU"
  },
  "cells": [
    {
      "cell_type": "markdown",
      "metadata": {
        "id": "lrcopJKNvhqC"
      },
      "source": [
        "## обучить сверточную нейронную сеть в стиле AlexNet (с падением размера ядра свертки и последовательностью блоков свертка-пулинг (conv-pool)-(conv-pool)-...) на датасете fashion-mnist"
      ],
      "id": "lrcopJKNvhqC"
    },
    {
      "cell_type": "code",
      "metadata": {
        "id": "9e3adeda"
      },
      "source": [
        "from tensorflow.keras.datasets import fashion_mnist\n",
        "from tensorflow.keras.utils import to_categorical\n",
        "\n",
        "from tensorflow.keras.models import Sequential, Model\n",
        "from tensorflow.keras import models, layers\n",
        "from tensorflow.keras.layers import Conv2D, Input, Flatten\n",
        "from tensorflow.keras.layers import GlobalMaxPooling2D, MaxPooling2D, AveragePooling2D, GlobalAveragePooling2D, Convolution2D\n",
        "\n",
        "import tensorflow.keras as keras\n",
        "from tensorflow.keras.models import Model \n",
        "\n",
        "import matplotlib.pyplot as plt"
      ],
      "id": "9e3adeda",
      "execution_count": 16,
      "outputs": []
    },
    {
      "cell_type": "code",
      "metadata": {
        "id": "524a5639"
      },
      "source": [
        "# заготовка для проверки гипотез\n",
        "\n",
        "def model_run(input_, out_, epochs_=50, batch_size_=512,verbose_=1):\n",
        "    \n",
        "    model = Model(inputs = input_, outputs = out_) \n",
        "    \n",
        "    model.compile(\n",
        "        optimizer='adam',\n",
        "        loss=keras.losses.categorical_crossentropy, \n",
        "        metrics=[\"accuracy\"])\n",
        "    \n",
        "    hist = model.fit(\n",
        "        x=x_train,\n",
        "        y=y_train, \n",
        "        epochs=epochs_, \n",
        "        batch_size=batch_size_, \n",
        "        validation_data=(x_test, y_test), \n",
        "        verbose=verbose_)    \n",
        "    \n",
        "    plt.plot(hist.history['val_accuracy'])\n",
        "    plt.plot(hist.history['accuracy'])\n",
        "\n",
        "    plt.legend()\n",
        "    plt.xlabel('epoch')\n",
        "    plt.ylabel('accuracy')\n",
        "    plt.title('точность сети от эпох')\n",
        "    plt.show()\n",
        "\n",
        "    test_score = model.evaluate(x_test, y_test)\n",
        "    print(\"Test loss {:.4f}, accuracy {:.2f}%\".format(test_score[0], test_score[1] * 100))\n",
        "\n",
        "    return test_score[1] * 100"
      ],
      "id": "524a5639",
      "execution_count": 17,
      "outputs": []
    },
    {
      "cell_type": "code",
      "metadata": {
        "id": "52f52d06",
        "colab": {
          "base_uri": "https://localhost:8080/"
        },
        "outputId": "9607dcf9-110a-4720-8dfc-c249a0f04240"
      },
      "source": [
        "# загрузка и подготовка данных\n",
        "\n",
        "# загрузка тренировочных и тестовых данных\n",
        "(x_train, y_train), (x_test, y_test) = fashion_mnist.load_data()\n",
        "\n",
        "# конвертация чисел из uint8 в float32\n",
        "x_train = x_train.astype('float32')\n",
        "x_test = x_test.astype('float32')\n",
        "\n",
        "# нормализация данных [0, 1]\n",
        "x_train /= 255 \n",
        "x_test /= 255 \n",
        "\n",
        "# трансформация лейблов в one-hot encoding\n",
        "y_train = to_categorical(y_train, 10) \n",
        "y_test = to_categorical(y_test, 10) \n",
        "\n",
        "# изменение размерности массива в 4D массив\n",
        "x_train = x_train.reshape(x_train.shape[0], 28,28,1)\n",
        "x_test = x_test.reshape(x_test.shape[0], 28,28,1)"
      ],
      "id": "52f52d06",
      "execution_count": 3,
      "outputs": [
        {
          "output_type": "stream",
          "text": [
            "Downloading data from https://storage.googleapis.com/tensorflow/tf-keras-datasets/train-labels-idx1-ubyte.gz\n",
            "32768/29515 [=================================] - 0s 0us/step\n",
            "Downloading data from https://storage.googleapis.com/tensorflow/tf-keras-datasets/train-images-idx3-ubyte.gz\n",
            "26427392/26421880 [==============================] - 0s 0us/step\n",
            "Downloading data from https://storage.googleapis.com/tensorflow/tf-keras-datasets/t10k-labels-idx1-ubyte.gz\n",
            "8192/5148 [===============================================] - 0s 0us/step\n",
            "Downloading data from https://storage.googleapis.com/tensorflow/tf-keras-datasets/t10k-images-idx3-ubyte.gz\n",
            "4423680/4422102 [==============================] - 0s 0us/step\n"
          ],
          "name": "stdout"
        }
      ]
    },
    {
      "cell_type": "code",
      "metadata": {
        "colab": {
          "base_uri": "https://localhost:8080/",
          "height": 1000
        },
        "id": "DqS1YWcJyhgB",
        "outputId": "fcafb1d9-0f34-4df6-91cd-ca95e33c265a"
      },
      "source": [
        "# полносвязная сеть\n",
        "\n",
        "input1= layers.Input(shape=(28,28,1))\n",
        "\n",
        "x = layers.Flatten()(input1)\n",
        "x = layers.Dense(1024, activation='relu')(x)\n",
        "\n",
        "out_x = layers.Dense(10, activation='softmax')(x)\n",
        "\n",
        "# model.summary()\n",
        "model_run(input1, out_x)"
      ],
      "id": "DqS1YWcJyhgB",
      "execution_count": 4,
      "outputs": [
        {
          "output_type": "stream",
          "text": [
            "Epoch 1/50\n",
            "118/118 [==============================] - 4s 5ms/step - loss: 0.5655 - accuracy: 0.8049 - val_loss: 0.4726 - val_accuracy: 0.8328\n",
            "Epoch 2/50\n",
            "118/118 [==============================] - 0s 4ms/step - loss: 0.4003 - accuracy: 0.8607 - val_loss: 0.4065 - val_accuracy: 0.8573\n",
            "Epoch 3/50\n",
            "118/118 [==============================] - 0s 4ms/step - loss: 0.3554 - accuracy: 0.8743 - val_loss: 0.3779 - val_accuracy: 0.8644\n",
            "Epoch 4/50\n",
            "118/118 [==============================] - 0s 4ms/step - loss: 0.3291 - accuracy: 0.8823 - val_loss: 0.3964 - val_accuracy: 0.8579\n",
            "Epoch 5/50\n",
            "118/118 [==============================] - 0s 4ms/step - loss: 0.3093 - accuracy: 0.8876 - val_loss: 0.3573 - val_accuracy: 0.8719\n",
            "Epoch 6/50\n",
            "118/118 [==============================] - 0s 4ms/step - loss: 0.2913 - accuracy: 0.8934 - val_loss: 0.3397 - val_accuracy: 0.8781\n",
            "Epoch 7/50\n",
            "118/118 [==============================] - 0s 4ms/step - loss: 0.2747 - accuracy: 0.9009 - val_loss: 0.3431 - val_accuracy: 0.8763\n",
            "Epoch 8/50\n",
            "118/118 [==============================] - 0s 4ms/step - loss: 0.2629 - accuracy: 0.9042 - val_loss: 0.3527 - val_accuracy: 0.8720\n",
            "Epoch 9/50\n",
            "118/118 [==============================] - 0s 4ms/step - loss: 0.2523 - accuracy: 0.9081 - val_loss: 0.3280 - val_accuracy: 0.8847\n",
            "Epoch 10/50\n",
            "118/118 [==============================] - 0s 4ms/step - loss: 0.2454 - accuracy: 0.9098 - val_loss: 0.3276 - val_accuracy: 0.8830\n",
            "Epoch 11/50\n",
            "118/118 [==============================] - 0s 4ms/step - loss: 0.2331 - accuracy: 0.9149 - val_loss: 0.3335 - val_accuracy: 0.8814\n",
            "Epoch 12/50\n",
            "118/118 [==============================] - 0s 4ms/step - loss: 0.2303 - accuracy: 0.9163 - val_loss: 0.3132 - val_accuracy: 0.8902\n",
            "Epoch 13/50\n",
            "118/118 [==============================] - 0s 4ms/step - loss: 0.2160 - accuracy: 0.9217 - val_loss: 0.3078 - val_accuracy: 0.8911\n",
            "Epoch 14/50\n",
            "118/118 [==============================] - 0s 4ms/step - loss: 0.2059 - accuracy: 0.9253 - val_loss: 0.3125 - val_accuracy: 0.8897\n",
            "Epoch 15/50\n",
            "118/118 [==============================] - 0s 4ms/step - loss: 0.2030 - accuracy: 0.9262 - val_loss: 0.3035 - val_accuracy: 0.8939\n",
            "Epoch 16/50\n",
            "118/118 [==============================] - 0s 4ms/step - loss: 0.1953 - accuracy: 0.9288 - val_loss: 0.3217 - val_accuracy: 0.8865\n",
            "Epoch 17/50\n",
            "118/118 [==============================] - 0s 4ms/step - loss: 0.1902 - accuracy: 0.9304 - val_loss: 0.3270 - val_accuracy: 0.8869\n",
            "Epoch 18/50\n",
            "118/118 [==============================] - 0s 4ms/step - loss: 0.1800 - accuracy: 0.9345 - val_loss: 0.3196 - val_accuracy: 0.8894\n",
            "Epoch 19/50\n",
            "118/118 [==============================] - 0s 4ms/step - loss: 0.1782 - accuracy: 0.9355 - val_loss: 0.3161 - val_accuracy: 0.8910\n",
            "Epoch 20/50\n",
            "118/118 [==============================] - 1s 4ms/step - loss: 0.1673 - accuracy: 0.9394 - val_loss: 0.3303 - val_accuracy: 0.8838\n",
            "Epoch 21/50\n",
            "118/118 [==============================] - 0s 4ms/step - loss: 0.1685 - accuracy: 0.9381 - val_loss: 0.3316 - val_accuracy: 0.8874\n",
            "Epoch 22/50\n",
            "118/118 [==============================] - 0s 4ms/step - loss: 0.1581 - accuracy: 0.9428 - val_loss: 0.3081 - val_accuracy: 0.8971\n",
            "Epoch 23/50\n",
            "118/118 [==============================] - 0s 4ms/step - loss: 0.1555 - accuracy: 0.9435 - val_loss: 0.2995 - val_accuracy: 0.8985\n",
            "Epoch 24/50\n",
            "118/118 [==============================] - 0s 4ms/step - loss: 0.1475 - accuracy: 0.9467 - val_loss: 0.3225 - val_accuracy: 0.8937\n",
            "Epoch 25/50\n",
            "118/118 [==============================] - 0s 4ms/step - loss: 0.1420 - accuracy: 0.9494 - val_loss: 0.3107 - val_accuracy: 0.8957\n",
            "Epoch 26/50\n",
            "118/118 [==============================] - 1s 4ms/step - loss: 0.1445 - accuracy: 0.9479 - val_loss: 0.3222 - val_accuracy: 0.8921\n",
            "Epoch 27/50\n",
            "118/118 [==============================] - 0s 4ms/step - loss: 0.1398 - accuracy: 0.9495 - val_loss: 0.3254 - val_accuracy: 0.8929\n",
            "Epoch 28/50\n",
            "118/118 [==============================] - 0s 4ms/step - loss: 0.1312 - accuracy: 0.9528 - val_loss: 0.3453 - val_accuracy: 0.8895\n",
            "Epoch 29/50\n",
            "118/118 [==============================] - 0s 4ms/step - loss: 0.1320 - accuracy: 0.9521 - val_loss: 0.3564 - val_accuracy: 0.8857\n",
            "Epoch 30/50\n",
            "118/118 [==============================] - 0s 4ms/step - loss: 0.1260 - accuracy: 0.9551 - val_loss: 0.3472 - val_accuracy: 0.8911\n",
            "Epoch 31/50\n",
            "118/118 [==============================] - 0s 4ms/step - loss: 0.1200 - accuracy: 0.9568 - val_loss: 0.3405 - val_accuracy: 0.8939\n",
            "Epoch 32/50\n",
            "118/118 [==============================] - 0s 4ms/step - loss: 0.1169 - accuracy: 0.9582 - val_loss: 0.3317 - val_accuracy: 0.8985\n",
            "Epoch 33/50\n",
            "118/118 [==============================] - 0s 4ms/step - loss: 0.1117 - accuracy: 0.9604 - val_loss: 0.3283 - val_accuracy: 0.8991\n",
            "Epoch 34/50\n",
            "118/118 [==============================] - 0s 4ms/step - loss: 0.1070 - accuracy: 0.9622 - val_loss: 0.3317 - val_accuracy: 0.8981\n",
            "Epoch 35/50\n",
            "118/118 [==============================] - 0s 4ms/step - loss: 0.1070 - accuracy: 0.9624 - val_loss: 0.3585 - val_accuracy: 0.8922\n",
            "Epoch 36/50\n",
            "118/118 [==============================] - 1s 4ms/step - loss: 0.1047 - accuracy: 0.9628 - val_loss: 0.3712 - val_accuracy: 0.8959\n",
            "Epoch 37/50\n",
            "118/118 [==============================] - 1s 4ms/step - loss: 0.1006 - accuracy: 0.9639 - val_loss: 0.3385 - val_accuracy: 0.8992\n",
            "Epoch 38/50\n",
            "118/118 [==============================] - 0s 4ms/step - loss: 0.0933 - accuracy: 0.9671 - val_loss: 0.3504 - val_accuracy: 0.8971\n",
            "Epoch 39/50\n",
            "118/118 [==============================] - 0s 4ms/step - loss: 0.0984 - accuracy: 0.9646 - val_loss: 0.3519 - val_accuracy: 0.8978\n",
            "Epoch 40/50\n",
            "118/118 [==============================] - 0s 4ms/step - loss: 0.0889 - accuracy: 0.9682 - val_loss: 0.3425 - val_accuracy: 0.8997\n",
            "Epoch 41/50\n",
            "118/118 [==============================] - 0s 4ms/step - loss: 0.0839 - accuracy: 0.9707 - val_loss: 0.3618 - val_accuracy: 0.8973\n",
            "Epoch 42/50\n",
            "118/118 [==============================] - 1s 4ms/step - loss: 0.0933 - accuracy: 0.9668 - val_loss: 0.3841 - val_accuracy: 0.8930\n",
            "Epoch 43/50\n",
            "118/118 [==============================] - 0s 4ms/step - loss: 0.0831 - accuracy: 0.9711 - val_loss: 0.3679 - val_accuracy: 0.8970\n",
            "Epoch 44/50\n",
            "118/118 [==============================] - 0s 4ms/step - loss: 0.0792 - accuracy: 0.9728 - val_loss: 0.3636 - val_accuracy: 0.8996\n",
            "Epoch 45/50\n",
            "118/118 [==============================] - 0s 4ms/step - loss: 0.0766 - accuracy: 0.9731 - val_loss: 0.3746 - val_accuracy: 0.8975\n",
            "Epoch 46/50\n",
            "118/118 [==============================] - 0s 4ms/step - loss: 0.0729 - accuracy: 0.9751 - val_loss: 0.3807 - val_accuracy: 0.8961\n",
            "Epoch 47/50\n",
            "118/118 [==============================] - 0s 4ms/step - loss: 0.0725 - accuracy: 0.9753 - val_loss: 0.3824 - val_accuracy: 0.8960\n",
            "Epoch 48/50\n",
            "118/118 [==============================] - 0s 4ms/step - loss: 0.0713 - accuracy: 0.9753 - val_loss: 0.3796 - val_accuracy: 0.8991\n",
            "Epoch 49/50\n",
            "118/118 [==============================] - 1s 4ms/step - loss: 0.0654 - accuracy: 0.9775 - val_loss: 0.3899 - val_accuracy: 0.8954\n",
            "Epoch 50/50\n",
            "118/118 [==============================] - 1s 4ms/step - loss: 0.0736 - accuracy: 0.9741 - val_loss: 0.3967 - val_accuracy: 0.8942\n"
          ],
          "name": "stdout"
        },
        {
          "output_type": "stream",
          "text": [
            "No handles with labels found to put in legend.\n"
          ],
          "name": "stderr"
        },
        {
          "output_type": "display_data",
          "data": {
            "image/png": "[encoded data removed]",
            "text/plain": [
              "<Figure size 432x288 with 1 Axes>"
            ]
          },
          "metadata": {
            "tags": [],
            "needs_background": "light"
          }
        },
        {
          "output_type": "stream",
          "text": [
            "313/313 [==============================] - 1s 2ms/step - loss: 0.3967 - accuracy: 0.8942\n",
            "Test loss 0.3967, accuracy 89.42%\n"
          ],
          "name": "stdout"
        },
        {
          "output_type": "execute_result",
          "data": {
            "text/plain": [
              "89.42000269889832"
            ]
          },
          "metadata": {
            "tags": []
          },
          "execution_count": 4
        }
      ]
    },
    {
      "cell_type": "code",
      "metadata": {
        "colab": {
          "base_uri": "https://localhost:8080/",
          "height": 1000
        },
        "id": "93754fc0",
        "outputId": "f83feecc-ea55-4a3c-ef7e-7cf8a9b09643"
      },
      "source": [
        "# сеть AlexNet\n",
        "\n",
        "input1= layers.Input(shape=(28,28,1))\n",
        "\n",
        "x = layers.Conv2D(64, kernel_size=(11, 11), strides=(1, 1), activation='relu',  padding=\"same\")(input1)\n",
        "x = layers.MaxPooling2D(pool_size=(3, 3), strides=(2, 2), padding='valid')(x)\n",
        "\n",
        "x = layers.Conv2D(192, kernel_size=(5, 5), strides=(1, 1), activation='relu', padding='same')(x)\n",
        "x = layers.MaxPooling2D(pool_size=(3, 3), strides=(2, 2), padding='valid')(x)\n",
        "\n",
        "x = layers.Conv2D(384, kernel_size=(3, 3), strides=(1, 1), activation='relu', padding='same')(x)\n",
        "x = layers.Conv2D(256, kernel_size=(3, 3), strides=(1, 1), activation='relu', padding='same')(x)\n",
        "x = layers.Conv2D(256, kernel_size=(3, 3), strides=(1, 1), activation='relu', padding='same')(x)\n",
        "x = layers.MaxPooling2D(pool_size=(3, 3), strides=(2, 2), padding='valid')(x)\n",
        "\n",
        "x = layers.Flatten()(x)\n",
        "x = layers.Dense(4096, activation='relu')(x)\n",
        "x = layers.Dense(4096, activation='relu')(x)\n",
        "\n",
        "out_x = layers.Dense(10, activation='softmax')(x)\n",
        "\n",
        "# model.summary()\n",
        "model_run(input1, out_x)"
      ],
      "id": "93754fc0",
      "execution_count": 5,
      "outputs": [
        {
          "output_type": "stream",
          "text": [
            "Epoch 1/50\n",
            "118/118 [==============================] - 46s 120ms/step - loss: 0.8828 - accuracy: 0.6592 - val_loss: 0.5162 - val_accuracy: 0.8018\n",
            "Epoch 2/50\n",
            "118/118 [==============================] - 13s 107ms/step - loss: 0.3911 - accuracy: 0.8537 - val_loss: 0.4508 - val_accuracy: 0.8318\n",
            "Epoch 3/50\n",
            "118/118 [==============================] - 12s 103ms/step - loss: 0.3113 - accuracy: 0.8820 - val_loss: 0.3243 - val_accuracy: 0.8776\n",
            "Epoch 4/50\n",
            "118/118 [==============================] - 12s 101ms/step - loss: 0.2659 - accuracy: 0.9003 - val_loss: 0.2851 - val_accuracy: 0.8936\n",
            "Epoch 5/50\n",
            "118/118 [==============================] - 12s 100ms/step - loss: 0.2452 - accuracy: 0.9083 - val_loss: 0.2820 - val_accuracy: 0.9014\n",
            "Epoch 6/50\n",
            "118/118 [==============================] - 12s 100ms/step - loss: 0.2259 - accuracy: 0.9151 - val_loss: 0.2787 - val_accuracy: 0.9013\n",
            "Epoch 7/50\n",
            "118/118 [==============================] - 12s 101ms/step - loss: 0.2081 - accuracy: 0.9225 - val_loss: 0.2691 - val_accuracy: 0.9061\n",
            "Epoch 8/50\n",
            "118/118 [==============================] - 12s 102ms/step - loss: 0.1993 - accuracy: 0.9262 - val_loss: 0.2842 - val_accuracy: 0.9020\n",
            "Epoch 9/50\n",
            "118/118 [==============================] - 12s 102ms/step - loss: 0.1842 - accuracy: 0.9296 - val_loss: 0.2743 - val_accuracy: 0.9070\n",
            "Epoch 10/50\n",
            "118/118 [==============================] - 12s 102ms/step - loss: 0.1714 - accuracy: 0.9349 - val_loss: 0.3043 - val_accuracy: 0.9008\n",
            "Epoch 11/50\n",
            "118/118 [==============================] - 12s 101ms/step - loss: 0.1615 - accuracy: 0.9401 - val_loss: 0.2671 - val_accuracy: 0.9082\n",
            "Epoch 12/50\n",
            "118/118 [==============================] - 12s 101ms/step - loss: 0.1446 - accuracy: 0.9446 - val_loss: 0.2838 - val_accuracy: 0.9113\n",
            "Epoch 13/50\n",
            "118/118 [==============================] - 12s 101ms/step - loss: 0.1431 - accuracy: 0.9456 - val_loss: 0.2723 - val_accuracy: 0.9079\n",
            "Epoch 14/50\n",
            "118/118 [==============================] - 12s 101ms/step - loss: 0.1287 - accuracy: 0.9511 - val_loss: 0.2729 - val_accuracy: 0.9152\n",
            "Epoch 15/50\n",
            "118/118 [==============================] - 12s 101ms/step - loss: 0.1213 - accuracy: 0.9533 - val_loss: 0.2747 - val_accuracy: 0.9126\n",
            "Epoch 16/50\n",
            "118/118 [==============================] - 12s 101ms/step - loss: 0.1150 - accuracy: 0.9563 - val_loss: 0.3028 - val_accuracy: 0.9149\n",
            "Epoch 17/50\n",
            "118/118 [==============================] - 12s 101ms/step - loss: 0.1077 - accuracy: 0.9584 - val_loss: 0.2977 - val_accuracy: 0.9166\n",
            "Epoch 18/50\n",
            "118/118 [==============================] - 12s 101ms/step - loss: 0.0990 - accuracy: 0.9619 - val_loss: 0.3104 - val_accuracy: 0.9122\n",
            "Epoch 19/50\n",
            "118/118 [==============================] - 12s 101ms/step - loss: 0.0900 - accuracy: 0.9655 - val_loss: 0.3265 - val_accuracy: 0.9100\n",
            "Epoch 20/50\n",
            "118/118 [==============================] - 12s 101ms/step - loss: 0.0881 - accuracy: 0.9667 - val_loss: 0.3340 - val_accuracy: 0.9051\n",
            "Epoch 21/50\n",
            "118/118 [==============================] - 12s 101ms/step - loss: 0.0879 - accuracy: 0.9672 - val_loss: 0.3356 - val_accuracy: 0.9148\n",
            "Epoch 22/50\n",
            "118/118 [==============================] - 12s 101ms/step - loss: 0.0797 - accuracy: 0.9700 - val_loss: 0.3059 - val_accuracy: 0.9137\n",
            "Epoch 23/50\n",
            "118/118 [==============================] - 12s 101ms/step - loss: 0.0695 - accuracy: 0.9733 - val_loss: 0.3464 - val_accuracy: 0.9151\n",
            "Epoch 24/50\n",
            "118/118 [==============================] - 12s 100ms/step - loss: 0.0698 - accuracy: 0.9733 - val_loss: 0.3859 - val_accuracy: 0.9014\n",
            "Epoch 25/50\n",
            "118/118 [==============================] - 12s 100ms/step - loss: 0.0740 - accuracy: 0.9718 - val_loss: 0.3954 - val_accuracy: 0.9147\n",
            "Epoch 26/50\n",
            "118/118 [==============================] - 12s 100ms/step - loss: 0.0614 - accuracy: 0.9761 - val_loss: 0.4197 - val_accuracy: 0.9138\n",
            "Epoch 27/50\n",
            "118/118 [==============================] - 12s 101ms/step - loss: 0.0569 - accuracy: 0.9791 - val_loss: 0.4701 - val_accuracy: 0.9110\n",
            "Epoch 28/50\n",
            "118/118 [==============================] - 12s 101ms/step - loss: 0.0648 - accuracy: 0.9755 - val_loss: 0.4094 - val_accuracy: 0.9174\n",
            "Epoch 29/50\n",
            "118/118 [==============================] - 12s 100ms/step - loss: 0.0487 - accuracy: 0.9820 - val_loss: 0.3917 - val_accuracy: 0.9130\n",
            "Epoch 30/50\n",
            "118/118 [==============================] - 12s 101ms/step - loss: 0.0487 - accuracy: 0.9823 - val_loss: 0.4095 - val_accuracy: 0.9128\n",
            "Epoch 31/50\n",
            "118/118 [==============================] - 12s 101ms/step - loss: 0.0421 - accuracy: 0.9840 - val_loss: 0.4216 - val_accuracy: 0.9143\n",
            "Epoch 32/50\n",
            "118/118 [==============================] - 12s 100ms/step - loss: 0.0457 - accuracy: 0.9835 - val_loss: 0.5246 - val_accuracy: 0.9101\n",
            "Epoch 33/50\n",
            "118/118 [==============================] - 12s 100ms/step - loss: 0.0376 - accuracy: 0.9861 - val_loss: 0.4763 - val_accuracy: 0.9159\n",
            "Epoch 34/50\n",
            "118/118 [==============================] - 12s 100ms/step - loss: 0.0382 - accuracy: 0.9863 - val_loss: 0.4389 - val_accuracy: 0.9099\n",
            "Epoch 35/50\n",
            "118/118 [==============================] - 12s 100ms/step - loss: 0.0368 - accuracy: 0.9870 - val_loss: 0.4849 - val_accuracy: 0.9181\n",
            "Epoch 36/50\n",
            "118/118 [==============================] - 12s 100ms/step - loss: 0.0383 - accuracy: 0.9857 - val_loss: 0.4467 - val_accuracy: 0.9190\n",
            "Epoch 37/50\n",
            "118/118 [==============================] - 12s 100ms/step - loss: 0.0324 - accuracy: 0.9884 - val_loss: 0.5178 - val_accuracy: 0.9152\n",
            "Epoch 38/50\n",
            "118/118 [==============================] - 12s 100ms/step - loss: 0.0375 - accuracy: 0.9866 - val_loss: 0.4800 - val_accuracy: 0.9163\n",
            "Epoch 39/50\n",
            "118/118 [==============================] - 12s 100ms/step - loss: 0.0311 - accuracy: 0.9891 - val_loss: 0.5155 - val_accuracy: 0.9136\n",
            "Epoch 40/50\n",
            "118/118 [==============================] - 12s 100ms/step - loss: 0.0274 - accuracy: 0.9904 - val_loss: 0.4914 - val_accuracy: 0.9161\n",
            "Epoch 41/50\n",
            "118/118 [==============================] - 12s 100ms/step - loss: 0.0269 - accuracy: 0.9902 - val_loss: 0.4774 - val_accuracy: 0.9135\n",
            "Epoch 42/50\n",
            "118/118 [==============================] - 12s 100ms/step - loss: 0.0257 - accuracy: 0.9910 - val_loss: 0.4653 - val_accuracy: 0.9179\n",
            "Epoch 43/50\n",
            "118/118 [==============================] - 12s 100ms/step - loss: 0.0375 - accuracy: 0.9868 - val_loss: 0.5732 - val_accuracy: 0.9146\n",
            "Epoch 44/50\n",
            "118/118 [==============================] - 12s 100ms/step - loss: 0.0276 - accuracy: 0.9902 - val_loss: 0.5418 - val_accuracy: 0.9148\n",
            "Epoch 45/50\n",
            "118/118 [==============================] - 12s 100ms/step - loss: 0.0253 - accuracy: 0.9911 - val_loss: 0.4849 - val_accuracy: 0.9154\n",
            "Epoch 46/50\n",
            "118/118 [==============================] - 12s 100ms/step - loss: 0.0239 - accuracy: 0.9918 - val_loss: 0.5032 - val_accuracy: 0.9172\n",
            "Epoch 47/50\n",
            "118/118 [==============================] - 12s 100ms/step - loss: 0.0278 - accuracy: 0.9905 - val_loss: 0.5917 - val_accuracy: 0.9144\n",
            "Epoch 48/50\n",
            "118/118 [==============================] - 12s 100ms/step - loss: 0.0234 - accuracy: 0.9917 - val_loss: 0.5527 - val_accuracy: 0.9161\n",
            "Epoch 49/50\n",
            "118/118 [==============================] - 12s 100ms/step - loss: 0.0242 - accuracy: 0.9917 - val_loss: 0.5997 - val_accuracy: 0.9177\n",
            "Epoch 50/50\n",
            "118/118 [==============================] - 12s 100ms/step - loss: 0.0285 - accuracy: 0.9903 - val_loss: 0.5107 - val_accuracy: 0.9172\n"
          ],
          "name": "stdout"
        },
        {
          "output_type": "stream",
          "text": [
            "No handles with labels found to put in legend.\n"
          ],
          "name": "stderr"
        },
        {
          "output_type": "display_data",
          "data": {
            "image/png": "[encoded data removed]",
            "text/plain": [
              "<Figure size 432x288 with 1 Axes>"
            ]
          },
          "metadata": {
            "tags": [],
            "needs_background": "light"
          }
        },
        {
          "output_type": "stream",
          "text": [
            "313/313 [==============================] - 2s 5ms/step - loss: 0.5107 - accuracy: 0.9172\n",
            "Test loss 0.5107, accuracy 91.72%\n"
          ],
          "name": "stdout"
        },
        {
          "output_type": "execute_result",
          "data": {
            "text/plain": [
              "91.72000288963318"
            ]
          },
          "metadata": {
            "tags": []
          },
          "execution_count": 5
        }
      ]
    },
    {
      "cell_type": "code",
      "metadata": {
        "id": "a3XbaFM1cTRf",
        "colab": {
          "base_uri": "https://localhost:8080/",
          "height": 1000
        },
        "outputId": "ce4d400e-366f-46c5-e88f-70082b7aea39"
      },
      "source": [
        "# в 2 раза больше ядер\n",
        "\n",
        "input1= layers.Input(shape=(28,28,1))\n",
        "\n",
        "x = layers.Conv2D(128, kernel_size=(11, 11), strides=(1, 1), activation='relu',  padding=\"same\")(input1)\n",
        "x = layers.MaxPooling2D(pool_size=(3, 3), strides=(2, 2), padding='valid')(x)\n",
        "\n",
        "x = layers.Conv2D(256, kernel_size=(5, 5), strides=(1, 1), activation='relu', padding='same')(x)\n",
        "x = layers.MaxPooling2D(pool_size=(3, 3), strides=(2, 2), padding='valid')(x)\n",
        "\n",
        "x = layers.Conv2D(512, kernel_size=(3, 3), strides=(1, 1), activation='relu', padding='same')(x)\n",
        "x = layers.Conv2D(386, kernel_size=(3, 3), strides=(1, 1), activation='relu', padding='same')(x)\n",
        "x = layers.Conv2D(386, kernel_size=(3, 3), strides=(1, 1), activation='relu', padding='same')(x)\n",
        "x = layers.MaxPooling2D(pool_size=(3, 3), strides=(2, 2), padding='valid')(x)\n",
        "\n",
        "x = layers.Flatten()(x)\n",
        "x = layers.Dense(4096, activation='relu')(x)\n",
        "x = layers.Dense(4096, activation='relu')(x)\n",
        "\n",
        "out_x = layers.Dense(10, activation='softmax')(x)\n",
        "\n",
        "model_run(input1, out_x)"
      ],
      "id": "a3XbaFM1cTRf",
      "execution_count": 6,
      "outputs": [
        {
          "output_type": "stream",
          "text": [
            "Epoch 1/50\n",
            "118/118 [==============================] - 30s 198ms/step - loss: 0.9644 - accuracy: 0.6222 - val_loss: 0.4954 - val_accuracy: 0.8138\n",
            "Epoch 2/50\n",
            "118/118 [==============================] - 20s 171ms/step - loss: 0.3856 - accuracy: 0.8555 - val_loss: 0.3638 - val_accuracy: 0.8566\n",
            "Epoch 3/50\n",
            "118/118 [==============================] - 20s 171ms/step - loss: 0.3191 - accuracy: 0.8795 - val_loss: 0.3211 - val_accuracy: 0.8804\n",
            "Epoch 4/50\n",
            "118/118 [==============================] - 20s 171ms/step - loss: 0.2750 - accuracy: 0.8962 - val_loss: 0.3134 - val_accuracy: 0.8848\n",
            "Epoch 5/50\n",
            "118/118 [==============================] - 20s 170ms/step - loss: 0.2477 - accuracy: 0.9063 - val_loss: 0.2994 - val_accuracy: 0.8948\n",
            "Epoch 6/50\n",
            "118/118 [==============================] - 20s 171ms/step - loss: 0.2285 - accuracy: 0.9125 - val_loss: 0.2633 - val_accuracy: 0.9039\n",
            "Epoch 7/50\n",
            "118/118 [==============================] - 20s 172ms/step - loss: 0.2100 - accuracy: 0.9212 - val_loss: 0.2585 - val_accuracy: 0.9064\n",
            "Epoch 8/50\n",
            "118/118 [==============================] - 20s 171ms/step - loss: 0.2008 - accuracy: 0.9245 - val_loss: 0.2743 - val_accuracy: 0.9050\n",
            "Epoch 9/50\n",
            "118/118 [==============================] - 20s 170ms/step - loss: 0.1816 - accuracy: 0.9316 - val_loss: 0.2623 - val_accuracy: 0.9093\n",
            "Epoch 10/50\n",
            "118/118 [==============================] - 20s 171ms/step - loss: 0.1737 - accuracy: 0.9354 - val_loss: 0.2715 - val_accuracy: 0.9070\n",
            "Epoch 11/50\n",
            "118/118 [==============================] - 20s 171ms/step - loss: 0.1690 - accuracy: 0.9347 - val_loss: 0.2786 - val_accuracy: 0.9089\n",
            "Epoch 12/50\n",
            "118/118 [==============================] - 20s 171ms/step - loss: 0.1492 - accuracy: 0.9435 - val_loss: 0.2866 - val_accuracy: 0.9031\n",
            "Epoch 13/50\n",
            "118/118 [==============================] - 20s 170ms/step - loss: 0.1412 - accuracy: 0.9461 - val_loss: 0.2550 - val_accuracy: 0.9141\n",
            "Epoch 14/50\n",
            "118/118 [==============================] - 20s 169ms/step - loss: 0.1388 - accuracy: 0.9471 - val_loss: 0.2866 - val_accuracy: 0.9094\n",
            "Epoch 15/50\n",
            "118/118 [==============================] - 20s 170ms/step - loss: 0.1231 - accuracy: 0.9530 - val_loss: 0.2795 - val_accuracy: 0.9115\n",
            "Epoch 16/50\n",
            "118/118 [==============================] - 20s 170ms/step - loss: 0.1161 - accuracy: 0.9561 - val_loss: 0.2759 - val_accuracy: 0.9144\n",
            "Epoch 17/50\n",
            "118/118 [==============================] - 20s 170ms/step - loss: 0.1134 - accuracy: 0.9573 - val_loss: 0.3104 - val_accuracy: 0.9144\n",
            "Epoch 18/50\n",
            "118/118 [==============================] - 20s 170ms/step - loss: 0.1022 - accuracy: 0.9615 - val_loss: 0.3070 - val_accuracy: 0.9143\n",
            "Epoch 19/50\n",
            "118/118 [==============================] - 20s 170ms/step - loss: 0.0923 - accuracy: 0.9652 - val_loss: 0.2926 - val_accuracy: 0.9203\n",
            "Epoch 20/50\n",
            "118/118 [==============================] - 20s 170ms/step - loss: 0.0864 - accuracy: 0.9673 - val_loss: 0.3266 - val_accuracy: 0.9137\n",
            "Epoch 21/50\n",
            "118/118 [==============================] - 20s 170ms/step - loss: 0.0898 - accuracy: 0.9662 - val_loss: 0.3436 - val_accuracy: 0.9221\n",
            "Epoch 22/50\n",
            "118/118 [==============================] - 20s 170ms/step - loss: 0.0771 - accuracy: 0.9717 - val_loss: 0.3317 - val_accuracy: 0.9187\n",
            "Epoch 23/50\n",
            "118/118 [==============================] - 20s 170ms/step - loss: 0.0676 - accuracy: 0.9745 - val_loss: 0.3559 - val_accuracy: 0.9175\n",
            "Epoch 24/50\n",
            "118/118 [==============================] - 20s 170ms/step - loss: 0.0807 - accuracy: 0.9695 - val_loss: 0.3378 - val_accuracy: 0.9189\n",
            "Epoch 25/50\n",
            "118/118 [==============================] - 20s 170ms/step - loss: 0.0611 - accuracy: 0.9767 - val_loss: 0.3801 - val_accuracy: 0.9129\n",
            "Epoch 26/50\n",
            "118/118 [==============================] - 20s 170ms/step - loss: 0.0626 - accuracy: 0.9766 - val_loss: 0.4164 - val_accuracy: 0.9124\n",
            "Epoch 27/50\n",
            "118/118 [==============================] - 20s 170ms/step - loss: 0.0555 - accuracy: 0.9788 - val_loss: 0.4030 - val_accuracy: 0.9180\n",
            "Epoch 28/50\n",
            "118/118 [==============================] - 20s 169ms/step - loss: 0.0522 - accuracy: 0.9805 - val_loss: 0.4071 - val_accuracy: 0.9162\n",
            "Epoch 29/50\n",
            "118/118 [==============================] - 20s 169ms/step - loss: 0.0501 - accuracy: 0.9814 - val_loss: 0.4268 - val_accuracy: 0.9103\n",
            "Epoch 30/50\n",
            "118/118 [==============================] - 20s 169ms/step - loss: 0.0440 - accuracy: 0.9842 - val_loss: 0.4615 - val_accuracy: 0.9167\n",
            "Epoch 31/50\n",
            "118/118 [==============================] - 20s 169ms/step - loss: 0.0441 - accuracy: 0.9841 - val_loss: 0.4681 - val_accuracy: 0.9195\n",
            "Epoch 32/50\n",
            "118/118 [==============================] - 20s 169ms/step - loss: 0.0434 - accuracy: 0.9840 - val_loss: 0.4235 - val_accuracy: 0.9170\n",
            "Epoch 33/50\n",
            "118/118 [==============================] - 20s 169ms/step - loss: 0.0426 - accuracy: 0.9846 - val_loss: 0.4526 - val_accuracy: 0.9164\n",
            "Epoch 34/50\n",
            "118/118 [==============================] - 20s 168ms/step - loss: 0.0353 - accuracy: 0.9872 - val_loss: 0.4961 - val_accuracy: 0.9174\n",
            "Epoch 35/50\n",
            "118/118 [==============================] - 20s 168ms/step - loss: 0.0332 - accuracy: 0.9879 - val_loss: 0.5054 - val_accuracy: 0.9185\n",
            "Epoch 36/50\n",
            "118/118 [==============================] - 20s 168ms/step - loss: 0.0306 - accuracy: 0.9888 - val_loss: 0.4877 - val_accuracy: 0.9153\n",
            "Epoch 37/50\n",
            "118/118 [==============================] - 20s 169ms/step - loss: 0.0333 - accuracy: 0.9880 - val_loss: 0.4959 - val_accuracy: 0.9163\n",
            "Epoch 38/50\n",
            "118/118 [==============================] - 20s 169ms/step - loss: 0.0274 - accuracy: 0.9900 - val_loss: 0.4714 - val_accuracy: 0.9215\n",
            "Epoch 39/50\n",
            "118/118 [==============================] - 20s 169ms/step - loss: 0.0304 - accuracy: 0.9892 - val_loss: 0.5429 - val_accuracy: 0.9177\n",
            "Epoch 40/50\n",
            "118/118 [==============================] - 20s 168ms/step - loss: 0.0288 - accuracy: 0.9893 - val_loss: 0.4561 - val_accuracy: 0.9170\n",
            "Epoch 41/50\n",
            "118/118 [==============================] - 20s 168ms/step - loss: 0.0273 - accuracy: 0.9906 - val_loss: 0.5444 - val_accuracy: 0.9171\n",
            "Epoch 42/50\n",
            "118/118 [==============================] - 20s 169ms/step - loss: 0.0304 - accuracy: 0.9893 - val_loss: 0.4834 - val_accuracy: 0.9169\n",
            "Epoch 43/50\n",
            "118/118 [==============================] - 20s 169ms/step - loss: 0.0311 - accuracy: 0.9894 - val_loss: 0.4780 - val_accuracy: 0.9111\n",
            "Epoch 44/50\n",
            "118/118 [==============================] - 20s 168ms/step - loss: 0.0329 - accuracy: 0.9885 - val_loss: 0.5100 - val_accuracy: 0.9182\n",
            "Epoch 45/50\n",
            "118/118 [==============================] - 20s 168ms/step - loss: 0.0282 - accuracy: 0.9903 - val_loss: 0.4913 - val_accuracy: 0.9180\n",
            "Epoch 46/50\n",
            "118/118 [==============================] - 20s 168ms/step - loss: 0.0215 - accuracy: 0.9926 - val_loss: 0.5714 - val_accuracy: 0.9156\n",
            "Epoch 47/50\n",
            "118/118 [==============================] - 20s 168ms/step - loss: 0.0217 - accuracy: 0.9925 - val_loss: 0.5045 - val_accuracy: 0.9209\n",
            "Epoch 48/50\n",
            "118/118 [==============================] - 20s 168ms/step - loss: 0.0225 - accuracy: 0.9923 - val_loss: 0.6000 - val_accuracy: 0.9223\n",
            "Epoch 49/50\n",
            "118/118 [==============================] - 20s 168ms/step - loss: 0.0231 - accuracy: 0.9920 - val_loss: 0.5440 - val_accuracy: 0.9181\n",
            "Epoch 50/50\n",
            "118/118 [==============================] - 20s 167ms/step - loss: 0.0179 - accuracy: 0.9939 - val_loss: 0.5064 - val_accuracy: 0.9206\n"
          ],
          "name": "stdout"
        },
        {
          "output_type": "stream",
          "text": [
            "No handles with labels found to put in legend.\n"
          ],
          "name": "stderr"
        },
        {
          "output_type": "display_data",
          "data": {
            "image/png": "[encoded data removed]",
            "text/plain": [
              "<Figure size 432x288 with 1 Axes>"
            ]
          },
          "metadata": {
            "tags": [],
            "needs_background": "light"
          }
        },
        {
          "output_type": "stream",
          "text": [
            "313/313 [==============================] - 2s 7ms/step - loss: 0.5064 - accuracy: 0.9206\n",
            "Test loss 0.5064, accuracy 92.06%\n"
          ],
          "name": "stdout"
        },
        {
          "output_type": "execute_result",
          "data": {
            "text/plain": [
              "92.05999970436096"
            ]
          },
          "metadata": {
            "tags": []
          },
          "execution_count": 6
        }
      ]
    },
    {
      "cell_type": "code",
      "metadata": {
        "colab": {
          "base_uri": "https://localhost:8080/",
          "height": 1000
        },
        "id": "Y1dhcvT3oFm_",
        "outputId": "44b8896b-b0d4-4eed-bc59-78806f910f03"
      },
      "source": [
        "# в 4 раза больше ядер\n",
        "\n",
        "input1= layers.Input(shape=(28,28,1))\n",
        "\n",
        "x = layers.Conv2D(256, kernel_size=(11, 11), strides=(1, 1), activation='relu',  padding=\"same\")(input1)\n",
        "x = layers.MaxPooling2D(pool_size=(3, 3), strides=(2, 2), padding='valid')(x)\n",
        "\n",
        "x = layers.Conv2D(512, kernel_size=(5, 5), strides=(1, 1), activation='relu', padding='same')(x)\n",
        "x = layers.MaxPooling2D(pool_size=(3, 3), strides=(2, 2), padding='valid')(x)\n",
        "\n",
        "x = layers.Conv2D(1024, kernel_size=(3, 3), strides=(1, 1), activation='relu', padding='same')(x)\n",
        "x = layers.Conv2D(512, kernel_size=(3, 3), strides=(1, 1), activation='relu', padding='same')(x)\n",
        "x = layers.Conv2D(512, kernel_size=(3, 3), strides=(1, 1), activation='relu', padding='same')(x)\n",
        "x = layers.MaxPooling2D(pool_size=(3, 3), strides=(2, 2), padding='valid')(x)\n",
        "\n",
        "x = layers.Flatten()(x)\n",
        "x = layers.Dense(4096, activation='relu')(x)\n",
        "x = layers.Dense(4096, activation='relu')(x)\n",
        "\n",
        "out_x = layers.Dense(10, activation='softmax')(x)\n",
        "\n",
        "model_run(input1, out_x)"
      ],
      "id": "Y1dhcvT3oFm_",
      "execution_count": 7,
      "outputs": [
        {
          "output_type": "stream",
          "text": [
            "Epoch 1/50\n",
            "118/118 [==============================] - 67s 437ms/step - loss: 1.1295 - accuracy: 0.5797 - val_loss: 0.6589 - val_accuracy: 0.7374\n",
            "Epoch 2/50\n",
            "118/118 [==============================] - 43s 364ms/step - loss: 0.4419 - accuracy: 0.8383 - val_loss: 0.4148 - val_accuracy: 0.8472\n",
            "Epoch 3/50\n",
            "118/118 [==============================] - 43s 364ms/step - loss: 0.3448 - accuracy: 0.8726 - val_loss: 0.3832 - val_accuracy: 0.8581\n",
            "Epoch 4/50\n",
            "118/118 [==============================] - 43s 364ms/step - loss: 0.3005 - accuracy: 0.8885 - val_loss: 0.3358 - val_accuracy: 0.8756\n",
            "Epoch 5/50\n",
            "118/118 [==============================] - 43s 364ms/step - loss: 0.2773 - accuracy: 0.8981 - val_loss: 0.3339 - val_accuracy: 0.8789\n",
            "Epoch 6/50\n",
            "118/118 [==============================] - 43s 363ms/step - loss: 0.2492 - accuracy: 0.9079 - val_loss: 0.3646 - val_accuracy: 0.8679\n",
            "Epoch 7/50\n",
            "118/118 [==============================] - 43s 364ms/step - loss: 0.2381 - accuracy: 0.9112 - val_loss: 0.2862 - val_accuracy: 0.8976\n",
            "Epoch 8/50\n",
            "118/118 [==============================] - 43s 364ms/step - loss: 0.2159 - accuracy: 0.9191 - val_loss: 0.2863 - val_accuracy: 0.8980\n",
            "Epoch 9/50\n",
            "118/118 [==============================] - 43s 364ms/step - loss: 0.2072 - accuracy: 0.9222 - val_loss: 0.3265 - val_accuracy: 0.8898\n",
            "Epoch 10/50\n",
            "118/118 [==============================] - 43s 364ms/step - loss: 0.1949 - accuracy: 0.9265 - val_loss: 0.2706 - val_accuracy: 0.9049\n",
            "Epoch 11/50\n",
            "118/118 [==============================] - 43s 363ms/step - loss: 0.1813 - accuracy: 0.9323 - val_loss: 0.2693 - val_accuracy: 0.9038\n",
            "Epoch 12/50\n",
            "118/118 [==============================] - 43s 363ms/step - loss: 0.1695 - accuracy: 0.9358 - val_loss: 0.2725 - val_accuracy: 0.9093\n",
            "Epoch 13/50\n",
            "118/118 [==============================] - 43s 365ms/step - loss: 0.1652 - accuracy: 0.9370 - val_loss: 0.2859 - val_accuracy: 0.9055\n",
            "Epoch 14/50\n",
            "118/118 [==============================] - 43s 364ms/step - loss: 0.1530 - accuracy: 0.9425 - val_loss: 0.2751 - val_accuracy: 0.9077\n",
            "Epoch 15/50\n",
            "118/118 [==============================] - 43s 364ms/step - loss: 0.1450 - accuracy: 0.9455 - val_loss: 0.2913 - val_accuracy: 0.9062\n",
            "Epoch 16/50\n",
            "118/118 [==============================] - 43s 364ms/step - loss: 0.1349 - accuracy: 0.9499 - val_loss: 0.2942 - val_accuracy: 0.9120\n",
            "Epoch 17/50\n",
            "118/118 [==============================] - 43s 363ms/step - loss: 0.1248 - accuracy: 0.9535 - val_loss: 0.2749 - val_accuracy: 0.9138\n",
            "Epoch 18/50\n",
            "118/118 [==============================] - 43s 363ms/step - loss: 0.1215 - accuracy: 0.9542 - val_loss: 0.2910 - val_accuracy: 0.9130\n",
            "Epoch 19/50\n",
            "118/118 [==============================] - 43s 362ms/step - loss: 0.1166 - accuracy: 0.9549 - val_loss: 0.3089 - val_accuracy: 0.9156\n",
            "Epoch 20/50\n",
            "118/118 [==============================] - 43s 363ms/step - loss: 0.0978 - accuracy: 0.9632 - val_loss: 0.3324 - val_accuracy: 0.9107\n",
            "Epoch 21/50\n",
            "118/118 [==============================] - 43s 363ms/step - loss: 0.1058 - accuracy: 0.9604 - val_loss: 0.3356 - val_accuracy: 0.9099\n",
            "Epoch 22/50\n",
            "118/118 [==============================] - 43s 363ms/step - loss: 0.0994 - accuracy: 0.9627 - val_loss: 0.2876 - val_accuracy: 0.9121\n",
            "Epoch 23/50\n",
            "118/118 [==============================] - 43s 363ms/step - loss: 0.0918 - accuracy: 0.9662 - val_loss: 0.3507 - val_accuracy: 0.9096\n",
            "Epoch 24/50\n",
            "118/118 [==============================] - 43s 363ms/step - loss: 0.0817 - accuracy: 0.9691 - val_loss: 0.3347 - val_accuracy: 0.9190\n",
            "Epoch 25/50\n",
            "118/118 [==============================] - 43s 363ms/step - loss: 0.0794 - accuracy: 0.9700 - val_loss: 0.3613 - val_accuracy: 0.9119\n",
            "Epoch 26/50\n",
            "118/118 [==============================] - 43s 363ms/step - loss: 0.0700 - accuracy: 0.9746 - val_loss: 0.3594 - val_accuracy: 0.9161\n",
            "Epoch 27/50\n",
            "118/118 [==============================] - 43s 363ms/step - loss: 0.0706 - accuracy: 0.9739 - val_loss: 0.4024 - val_accuracy: 0.9080\n",
            "Epoch 28/50\n",
            "118/118 [==============================] - 43s 363ms/step - loss: 0.0763 - accuracy: 0.9708 - val_loss: 0.4681 - val_accuracy: 0.9048\n",
            "Epoch 29/50\n",
            "118/118 [==============================] - 43s 362ms/step - loss: 0.0607 - accuracy: 0.9779 - val_loss: 0.4732 - val_accuracy: 0.9098\n",
            "Epoch 30/50\n",
            "118/118 [==============================] - 43s 363ms/step - loss: 0.0579 - accuracy: 0.9781 - val_loss: 0.3662 - val_accuracy: 0.9044\n",
            "Epoch 31/50\n",
            "118/118 [==============================] - 43s 363ms/step - loss: 0.0588 - accuracy: 0.9786 - val_loss: 0.4627 - val_accuracy: 0.9099\n",
            "Epoch 32/50\n",
            "118/118 [==============================] - 43s 363ms/step - loss: 0.0622 - accuracy: 0.9770 - val_loss: 0.4066 - val_accuracy: 0.9131\n",
            "Epoch 33/50\n",
            "118/118 [==============================] - 43s 362ms/step - loss: 0.0485 - accuracy: 0.9822 - val_loss: 0.4257 - val_accuracy: 0.9142\n",
            "Epoch 34/50\n",
            "118/118 [==============================] - 43s 362ms/step - loss: 0.0446 - accuracy: 0.9833 - val_loss: 0.4537 - val_accuracy: 0.9136\n",
            "Epoch 35/50\n",
            "118/118 [==============================] - 43s 361ms/step - loss: 0.0537 - accuracy: 0.9807 - val_loss: 0.4648 - val_accuracy: 0.9121\n",
            "Epoch 36/50\n",
            "118/118 [==============================] - 42s 360ms/step - loss: 0.0452 - accuracy: 0.9835 - val_loss: 0.5102 - val_accuracy: 0.9032\n",
            "Epoch 37/50\n",
            "118/118 [==============================] - 42s 360ms/step - loss: 0.0440 - accuracy: 0.9833 - val_loss: 0.5005 - val_accuracy: 0.9132\n",
            "Epoch 38/50\n",
            "118/118 [==============================] - 43s 361ms/step - loss: 0.0514 - accuracy: 0.9810 - val_loss: 0.5034 - val_accuracy: 0.9120\n",
            "Epoch 39/50\n",
            "118/118 [==============================] - 43s 361ms/step - loss: 0.0341 - accuracy: 0.9880 - val_loss: 0.5195 - val_accuracy: 0.9145\n",
            "Epoch 40/50\n",
            "118/118 [==============================] - 43s 362ms/step - loss: 0.0383 - accuracy: 0.9864 - val_loss: 0.4875 - val_accuracy: 0.9128\n",
            "Epoch 41/50\n",
            "118/118 [==============================] - 43s 362ms/step - loss: 0.0360 - accuracy: 0.9868 - val_loss: 0.4816 - val_accuracy: 0.9146\n",
            "Epoch 42/50\n",
            "118/118 [==============================] - 43s 361ms/step - loss: 0.0387 - accuracy: 0.9856 - val_loss: 0.4897 - val_accuracy: 0.9131\n",
            "Epoch 43/50\n",
            "118/118 [==============================] - 43s 362ms/step - loss: 0.0317 - accuracy: 0.9887 - val_loss: 0.5370 - val_accuracy: 0.9101\n",
            "Epoch 44/50\n",
            "118/118 [==============================] - 43s 362ms/step - loss: 0.0308 - accuracy: 0.9888 - val_loss: 0.5535 - val_accuracy: 0.9074\n",
            "Epoch 45/50\n",
            "118/118 [==============================] - 43s 362ms/step - loss: 0.0365 - accuracy: 0.9873 - val_loss: 0.4497 - val_accuracy: 0.9089\n",
            "Epoch 46/50\n",
            "118/118 [==============================] - 43s 361ms/step - loss: 0.0351 - accuracy: 0.9873 - val_loss: 0.4948 - val_accuracy: 0.9103\n",
            "Epoch 47/50\n",
            "118/118 [==============================] - 43s 361ms/step - loss: 0.0241 - accuracy: 0.9914 - val_loss: 0.5790 - val_accuracy: 0.9129\n",
            "Epoch 48/50\n",
            "118/118 [==============================] - 42s 360ms/step - loss: 0.0277 - accuracy: 0.9903 - val_loss: 0.5323 - val_accuracy: 0.9128\n",
            "Epoch 49/50\n",
            "118/118 [==============================] - 42s 359ms/step - loss: 0.0343 - accuracy: 0.9878 - val_loss: 0.5575 - val_accuracy: 0.9121\n",
            "Epoch 50/50\n",
            "118/118 [==============================] - 42s 359ms/step - loss: 0.0251 - accuracy: 0.9912 - val_loss: 0.5727 - val_accuracy: 0.9175\n"
          ],
          "name": "stdout"
        },
        {
          "output_type": "stream",
          "text": [
            "No handles with labels found to put in legend.\n"
          ],
          "name": "stderr"
        },
        {
          "output_type": "display_data",
          "data": {
            "image/png": "[encoded data removed]",
            "text/plain": [
              "<Figure size 432x288 with 1 Axes>"
            ]
          },
          "metadata": {
            "tags": [],
            "needs_background": "light"
          }
        },
        {
          "output_type": "stream",
          "text": [
            "313/313 [==============================] - 5s 14ms/step - loss: 0.5727 - accuracy: 0.9175\n",
            "Test loss 0.5727, accuracy 91.75%\n"
          ],
          "name": "stdout"
        },
        {
          "output_type": "execute_result",
          "data": {
            "text/plain": [
              "91.75000190734863"
            ]
          },
          "metadata": {
            "tags": []
          },
          "execution_count": 7
        }
      ]
    },
    {
      "cell_type": "code",
      "metadata": {
        "id": "ZEydlqt_sdzR",
        "colab": {
          "base_uri": "https://localhost:8080/",
          "height": 1000
        },
        "outputId": "42172b17-bf30-4e49-a024-7ad8e9605727"
      },
      "source": [
        "# больше слоев\n",
        "\n",
        "input1= layers.Input(shape=(28,28,1))\n",
        "\n",
        "x = layers.Conv2D(128, kernel_size=(11, 11), strides=(1, 1), activation='relu',  padding=\"same\")(input1)\n",
        "x = layers.MaxPooling2D(pool_size=(3, 3), strides=(2, 2), padding='valid')(x)\n",
        "\n",
        "x = layers.Conv2D(256, kernel_size=(5, 5), strides=(1, 1), activation='relu', padding='same')(x)\n",
        "x = layers.Conv2D(256, kernel_size=(5, 5), strides=(1, 1), activation='relu', padding='same')(x) # новый\n",
        "x = layers.MaxPooling2D(pool_size=(3, 3), strides=(2, 2), padding='valid')(x)\n",
        "\n",
        "x = layers.Conv2D(512, kernel_size=(3, 3), strides=(1, 1), activation='relu', padding='same')(x)\n",
        "x = layers.Conv2D(386, kernel_size=(3, 3), strides=(1, 1), activation='relu', padding='same')(x)\n",
        "x = layers.Conv2D(386, kernel_size=(3, 3), strides=(1, 1), activation='relu', padding='same')(x) # новый\n",
        "x = layers.Conv2D(386, kernel_size=(3, 3), strides=(1, 1), activation='relu', padding='same')(x)\n",
        "x = layers.MaxPooling2D(pool_size=(3, 3), strides=(2, 2), padding='valid')(x)\n",
        "\n",
        "x = layers.Flatten()(x)\n",
        "x = layers.Dense(4096, activation='relu')(x)\n",
        "x = layers.Dense(4096, activation='relu')(x)\n",
        "\n",
        "out_x = layers.Dense(10, activation='softmax')(x)\n",
        "\n",
        "model_run(input1, out_x)"
      ],
      "id": "ZEydlqt_sdzR",
      "execution_count": 8,
      "outputs": [
        {
          "output_type": "stream",
          "text": [
            "Epoch 1/50\n",
            "118/118 [==============================] - 36s 277ms/step - loss: 1.2968 - accuracy: 0.4833 - val_loss: 0.6749 - val_accuracy: 0.7361\n",
            "Epoch 2/50\n",
            "118/118 [==============================] - 30s 257ms/step - loss: 0.4666 - accuracy: 0.8233 - val_loss: 0.4722 - val_accuracy: 0.8267\n",
            "Epoch 3/50\n",
            "118/118 [==============================] - 30s 255ms/step - loss: 0.3592 - accuracy: 0.8655 - val_loss: 0.3894 - val_accuracy: 0.8563\n",
            "Epoch 4/50\n",
            "118/118 [==============================] - 30s 257ms/step - loss: 0.3119 - accuracy: 0.8834 - val_loss: 0.3564 - val_accuracy: 0.8705\n",
            "Epoch 5/50\n",
            "118/118 [==============================] - 30s 256ms/step - loss: 0.2785 - accuracy: 0.8968 - val_loss: 0.3202 - val_accuracy: 0.8820\n",
            "Epoch 6/50\n",
            "118/118 [==============================] - 30s 256ms/step - loss: 0.2633 - accuracy: 0.9030 - val_loss: 0.3095 - val_accuracy: 0.8902\n",
            "Epoch 7/50\n",
            "118/118 [==============================] - 30s 256ms/step - loss: 0.2426 - accuracy: 0.9101 - val_loss: 0.2881 - val_accuracy: 0.8943\n",
            "Epoch 8/50\n",
            "118/118 [==============================] - 30s 256ms/step - loss: 0.2264 - accuracy: 0.9163 - val_loss: 0.2739 - val_accuracy: 0.9041\n",
            "Epoch 9/50\n",
            "118/118 [==============================] - 30s 257ms/step - loss: 0.2111 - accuracy: 0.9208 - val_loss: 0.2675 - val_accuracy: 0.9096\n",
            "Epoch 10/50\n",
            "118/118 [==============================] - 30s 256ms/step - loss: 0.1945 - accuracy: 0.9274 - val_loss: 0.2996 - val_accuracy: 0.9011\n",
            "Epoch 11/50\n",
            "118/118 [==============================] - 30s 257ms/step - loss: 0.1899 - accuracy: 0.9284 - val_loss: 0.2655 - val_accuracy: 0.9084\n",
            "Epoch 12/50\n",
            "118/118 [==============================] - 30s 256ms/step - loss: 0.1728 - accuracy: 0.9352 - val_loss: 0.2657 - val_accuracy: 0.9075\n",
            "Epoch 13/50\n",
            "118/118 [==============================] - 30s 256ms/step - loss: 0.1698 - accuracy: 0.9363 - val_loss: 0.2987 - val_accuracy: 0.9044\n",
            "Epoch 14/50\n",
            "118/118 [==============================] - 30s 256ms/step - loss: 0.1574 - accuracy: 0.9410 - val_loss: 0.2751 - val_accuracy: 0.9115\n",
            "Epoch 15/50\n",
            "118/118 [==============================] - 30s 256ms/step - loss: 0.1528 - accuracy: 0.9413 - val_loss: 0.2740 - val_accuracy: 0.9130\n",
            "Epoch 16/50\n",
            "118/118 [==============================] - 30s 256ms/step - loss: 0.1425 - accuracy: 0.9467 - val_loss: 0.3204 - val_accuracy: 0.9059\n",
            "Epoch 17/50\n",
            "118/118 [==============================] - 30s 256ms/step - loss: 0.1350 - accuracy: 0.9494 - val_loss: 0.2633 - val_accuracy: 0.9133\n",
            "Epoch 18/50\n",
            "118/118 [==============================] - 30s 257ms/step - loss: 0.1241 - accuracy: 0.9540 - val_loss: 0.2959 - val_accuracy: 0.9115\n",
            "Epoch 19/50\n",
            "118/118 [==============================] - 30s 256ms/step - loss: 0.1176 - accuracy: 0.9548 - val_loss: 0.3095 - val_accuracy: 0.9055\n",
            "Epoch 20/50\n",
            "118/118 [==============================] - 30s 256ms/step - loss: 0.1216 - accuracy: 0.9542 - val_loss: 0.3035 - val_accuracy: 0.9102\n",
            "Epoch 21/50\n",
            "118/118 [==============================] - 30s 256ms/step - loss: 0.1109 - accuracy: 0.9593 - val_loss: 0.3140 - val_accuracy: 0.9160\n",
            "Epoch 22/50\n",
            "118/118 [==============================] - 30s 256ms/step - loss: 0.0982 - accuracy: 0.9622 - val_loss: 0.2977 - val_accuracy: 0.9142\n",
            "Epoch 23/50\n",
            "118/118 [==============================] - 30s 256ms/step - loss: 0.0943 - accuracy: 0.9650 - val_loss: 0.3411 - val_accuracy: 0.9099\n",
            "Epoch 24/50\n",
            "118/118 [==============================] - 30s 256ms/step - loss: 0.0916 - accuracy: 0.9654 - val_loss: 0.2978 - val_accuracy: 0.9096\n",
            "Epoch 25/50\n",
            "118/118 [==============================] - 30s 256ms/step - loss: 0.0849 - accuracy: 0.9690 - val_loss: 0.3220 - val_accuracy: 0.9169\n",
            "Epoch 26/50\n",
            "118/118 [==============================] - 30s 256ms/step - loss: 0.0812 - accuracy: 0.9696 - val_loss: 0.3405 - val_accuracy: 0.9150\n",
            "Epoch 27/50\n",
            "118/118 [==============================] - 30s 256ms/step - loss: 0.0742 - accuracy: 0.9720 - val_loss: 0.3433 - val_accuracy: 0.9115\n",
            "Epoch 28/50\n",
            "118/118 [==============================] - 30s 256ms/step - loss: 0.0756 - accuracy: 0.9713 - val_loss: 0.3629 - val_accuracy: 0.9175\n",
            "Epoch 29/50\n",
            "118/118 [==============================] - 30s 256ms/step - loss: 0.0721 - accuracy: 0.9736 - val_loss: 0.3704 - val_accuracy: 0.9125\n",
            "Epoch 30/50\n",
            "118/118 [==============================] - 30s 256ms/step - loss: 0.0608 - accuracy: 0.9772 - val_loss: 0.3759 - val_accuracy: 0.9142\n",
            "Epoch 31/50\n",
            "118/118 [==============================] - 30s 256ms/step - loss: 0.0606 - accuracy: 0.9769 - val_loss: 0.3433 - val_accuracy: 0.9147\n",
            "Epoch 32/50\n",
            "118/118 [==============================] - 30s 256ms/step - loss: 0.0604 - accuracy: 0.9777 - val_loss: 0.3298 - val_accuracy: 0.9106\n",
            "Epoch 33/50\n",
            "118/118 [==============================] - 30s 256ms/step - loss: 0.0525 - accuracy: 0.9804 - val_loss: 0.3973 - val_accuracy: 0.9160\n",
            "Epoch 34/50\n",
            "118/118 [==============================] - 30s 256ms/step - loss: 0.0520 - accuracy: 0.9809 - val_loss: 0.4110 - val_accuracy: 0.9185\n",
            "Epoch 35/50\n",
            "118/118 [==============================] - 30s 256ms/step - loss: 0.0522 - accuracy: 0.9813 - val_loss: 0.4309 - val_accuracy: 0.9126\n",
            "Epoch 36/50\n",
            "118/118 [==============================] - 30s 256ms/step - loss: 0.0426 - accuracy: 0.9841 - val_loss: 0.4479 - val_accuracy: 0.9135\n",
            "Epoch 37/50\n",
            "118/118 [==============================] - 30s 256ms/step - loss: 0.0416 - accuracy: 0.9851 - val_loss: 0.3697 - val_accuracy: 0.9169\n",
            "Epoch 38/50\n",
            "118/118 [==============================] - 30s 256ms/step - loss: 0.0433 - accuracy: 0.9842 - val_loss: 0.4546 - val_accuracy: 0.9169\n",
            "Epoch 39/50\n",
            "118/118 [==============================] - 30s 256ms/step - loss: 0.0426 - accuracy: 0.9847 - val_loss: 0.4409 - val_accuracy: 0.9156\n",
            "Epoch 40/50\n",
            "118/118 [==============================] - 30s 256ms/step - loss: 0.0372 - accuracy: 0.9864 - val_loss: 0.4387 - val_accuracy: 0.9082\n",
            "Epoch 41/50\n",
            "118/118 [==============================] - 30s 256ms/step - loss: 0.0402 - accuracy: 0.9855 - val_loss: 0.4588 - val_accuracy: 0.9153\n",
            "Epoch 42/50\n",
            "118/118 [==============================] - 30s 256ms/step - loss: 0.0371 - accuracy: 0.9868 - val_loss: 0.4655 - val_accuracy: 0.9183\n",
            "Epoch 43/50\n",
            "118/118 [==============================] - 30s 256ms/step - loss: 0.0364 - accuracy: 0.9873 - val_loss: 0.5183 - val_accuracy: 0.9142\n",
            "Epoch 44/50\n",
            "118/118 [==============================] - 30s 255ms/step - loss: 0.0370 - accuracy: 0.9870 - val_loss: 0.4761 - val_accuracy: 0.9118\n",
            "Epoch 45/50\n",
            "118/118 [==============================] - 30s 255ms/step - loss: 0.0399 - accuracy: 0.9858 - val_loss: 0.4821 - val_accuracy: 0.9132\n",
            "Epoch 46/50\n",
            "118/118 [==============================] - 30s 256ms/step - loss: 0.0363 - accuracy: 0.9870 - val_loss: 0.4771 - val_accuracy: 0.9180\n",
            "Epoch 47/50\n",
            "118/118 [==============================] - 30s 256ms/step - loss: 0.0374 - accuracy: 0.9872 - val_loss: 0.4427 - val_accuracy: 0.9195\n",
            "Epoch 48/50\n",
            "118/118 [==============================] - 30s 256ms/step - loss: 0.0307 - accuracy: 0.9891 - val_loss: 0.4253 - val_accuracy: 0.9200\n",
            "Epoch 49/50\n",
            "118/118 [==============================] - 30s 256ms/step - loss: 0.0284 - accuracy: 0.9901 - val_loss: 0.4805 - val_accuracy: 0.9130\n",
            "Epoch 50/50\n",
            "118/118 [==============================] - 30s 256ms/step - loss: 0.0239 - accuracy: 0.9913 - val_loss: 0.5163 - val_accuracy: 0.9148\n"
          ],
          "name": "stdout"
        },
        {
          "output_type": "stream",
          "text": [
            "No handles with labels found to put in legend.\n"
          ],
          "name": "stderr"
        },
        {
          "output_type": "display_data",
          "data": {
            "image/png": "[encoded data removed]",
            "text/plain": [
              "<Figure size 432x288 with 1 Axes>"
            ]
          },
          "metadata": {
            "tags": [],
            "needs_background": "light"
          }
        },
        {
          "output_type": "stream",
          "text": [
            "313/313 [==============================] - 3s 9ms/step - loss: 0.5163 - accuracy: 0.9148\n",
            "Test loss 0.5163, accuracy 91.48%\n"
          ],
          "name": "stdout"
        },
        {
          "output_type": "execute_result",
          "data": {
            "text/plain": [
              "91.47999882698059"
            ]
          },
          "metadata": {
            "tags": []
          },
          "execution_count": 8
        }
      ]
    },
    {
      "cell_type": "markdown",
      "metadata": {
        "id": "P9-Qt9cF0hdh"
      },
      "source": [
        "Вывод: на датасете fashion-mnist преимущества AlexNet (и вообще сверточных сетей) не особенно заметны. Хотя результаты и улучшаются на 2-3%"
      ],
      "id": "P9-Qt9cF0hdh"
    },
    {
      "cell_type": "code",
      "metadata": {
        "id": "1I5t_4Szzb5Z"
      },
      "source": [
        ""
      ],
      "id": "1I5t_4Szzb5Z",
      "execution_count": 8,
      "outputs": []
    },
    {
      "cell_type": "code",
      "metadata": {
        "id": "VuAtW-7f0g0J"
      },
      "source": [
        ""
      ],
      "id": "VuAtW-7f0g0J",
      "execution_count": null,
      "outputs": []
    },
    {
      "cell_type": "code",
      "metadata": {
        "id": "L11GqGVm0g8w"
      },
      "source": [
        ""
      ],
      "id": "L11GqGVm0g8w",
      "execution_count": null,
      "outputs": []
    },
    {
      "cell_type": "markdown",
      "metadata": {
        "id": "BjkzU0XUvb5H"
      },
      "source": [
        "# реализовать нейронную сеть или стек из сверток (Concatenate) на сifar10."
      ],
      "id": "BjkzU0XUvb5H"
    },
    {
      "cell_type": "code",
      "metadata": {
        "id": "bmHQk9zqzcDP",
        "colab": {
          "base_uri": "https://localhost:8080/"
        },
        "outputId": "c3643da9-96a9-4224-e2f1-13a8050f3d10"
      },
      "source": [
        "from tensorflow.keras.layers import Dense, Dropout, Activation, Flatten\n",
        "from tensorflow.keras.datasets import cifar10\n",
        "import os\n",
        "\n",
        "# установка параметров нейросети\n",
        "batch_size = 32\n",
        "num_classes = 10\n",
        "epochs = 5\n",
        "data_augmentation = False\n",
        "num_predictions = 20\n",
        "save_dir = os.path.join(os.getcwd(), 'saved_models')\n",
        "model_name = 'keras_cifar10_trained_model.h5'\n",
        "\n",
        "# разделение тренировочной и тестовой выборки\n",
        "(x_train, y_train), (x_test, y_test) = cifar10.load_data()\n",
        "print('x_train shape:', x_train.shape)\n",
        "print(x_train.shape[0], 'тренировочные примеры')\n",
        "print(x_test.shape[0], 'тестовые примеры')\n",
        "\n",
        "# преобразование матрицы чисел 0-9 в бинарную матрицу чисел 0-1\n",
        "y_train = keras.utils.to_categorical(y_train, num_classes)\n",
        "y_test = keras.utils.to_categorical(y_test, num_classes)\n",
        "\n",
        "\n",
        "x_train = x_train.astype('float32')\n",
        "x_test = x_test.astype('float32')\n",
        "x_train /= 255\n",
        "x_test /= 255"
      ],
      "id": "bmHQk9zqzcDP",
      "execution_count": 18,
      "outputs": [
        {
          "output_type": "stream",
          "text": [
            "x_train shape: (50000, 32, 32, 3)\n",
            "50000 тренировочные примеры\n",
            "10000 тестовые примеры\n"
          ],
          "name": "stdout"
        }
      ]
    },
    {
      "cell_type": "code",
      "metadata": {
        "id": "srCLGVW62O5B",
        "colab": {
          "base_uri": "https://localhost:8080/"
        },
        "outputId": "5b0c3336-b125-48cf-9029-8b4f7799d6f8"
      },
      "source": [
        "x_train.shape[1:]"
      ],
      "id": "srCLGVW62O5B",
      "execution_count": 19,
      "outputs": [
        {
          "output_type": "execute_result",
          "data": {
            "text/plain": [
              "(32, 32, 3)"
            ]
          },
          "metadata": {
            "tags": []
          },
          "execution_count": 19
        }
      ]
    },
    {
      "cell_type": "code",
      "metadata": {
        "id": "-s4q38jG5oIo",
        "colab": {
          "base_uri": "https://localhost:8080/",
          "height": 1000
        },
        "outputId": "43d93028-4498-4719-8d94-30dec58bb9a1"
      },
      "source": [
        "# полносвязная сеть\n",
        "\n",
        "input1 = layers.Input(shape=(32,32,3))\n",
        "\n",
        "x = layers.Flatten()(input1)\n",
        "x = layers.Dense(512, activation='relu')(x)\n",
        "x = layers.Dense(512, activation='relu')(x)\n",
        "\n",
        "out_x = layers.Dense(10, activation='softmax')(x)\n",
        "\n",
        "# model.summary()\n",
        "\n",
        "model_run(input1, out_x)"
      ],
      "id": "-s4q38jG5oIo",
      "execution_count": 21,
      "outputs": [
        {
          "output_type": "stream",
          "text": [
            "Epoch 1/50\n",
            "98/98 [==============================] - 1s 9ms/step - loss: 2.0400 - accuracy: 0.2776 - val_loss: 1.7878 - val_accuracy: 0.3685\n",
            "Epoch 2/50\n",
            "98/98 [==============================] - 1s 7ms/step - loss: 1.7407 - accuracy: 0.3807 - val_loss: 1.7010 - val_accuracy: 0.3906\n",
            "Epoch 3/50\n",
            "98/98 [==============================] - 1s 7ms/step - loss: 1.6523 - accuracy: 0.4107 - val_loss: 1.6053 - val_accuracy: 0.4351\n",
            "Epoch 4/50\n",
            "98/98 [==============================] - 1s 7ms/step - loss: 1.5835 - accuracy: 0.4359 - val_loss: 1.5622 - val_accuracy: 0.4532\n",
            "Epoch 5/50\n",
            "98/98 [==============================] - 1s 7ms/step - loss: 1.5367 - accuracy: 0.4563 - val_loss: 1.5312 - val_accuracy: 0.4560\n",
            "Epoch 6/50\n",
            "98/98 [==============================] - 1s 7ms/step - loss: 1.5005 - accuracy: 0.4672 - val_loss: 1.5119 - val_accuracy: 0.4579\n",
            "Epoch 7/50\n",
            "98/98 [==============================] - 1s 7ms/step - loss: 1.4641 - accuracy: 0.4796 - val_loss: 1.4813 - val_accuracy: 0.4757\n",
            "Epoch 8/50\n",
            "98/98 [==============================] - 1s 7ms/step - loss: 1.4416 - accuracy: 0.4871 - val_loss: 1.4510 - val_accuracy: 0.4889\n",
            "Epoch 9/50\n",
            "98/98 [==============================] - 1s 6ms/step - loss: 1.4154 - accuracy: 0.4969 - val_loss: 1.4552 - val_accuracy: 0.4844\n",
            "Epoch 10/50\n",
            "98/98 [==============================] - 1s 7ms/step - loss: 1.3938 - accuracy: 0.5026 - val_loss: 1.4221 - val_accuracy: 0.4993\n",
            "Epoch 11/50\n",
            "98/98 [==============================] - 1s 7ms/step - loss: 1.3711 - accuracy: 0.5109 - val_loss: 1.4205 - val_accuracy: 0.4888\n",
            "Epoch 12/50\n",
            "98/98 [==============================] - 1s 7ms/step - loss: 1.3541 - accuracy: 0.5181 - val_loss: 1.4076 - val_accuracy: 0.5010\n",
            "Epoch 13/50\n",
            "98/98 [==============================] - 1s 7ms/step - loss: 1.3313 - accuracy: 0.5273 - val_loss: 1.3922 - val_accuracy: 0.5064\n",
            "Epoch 14/50\n",
            "98/98 [==============================] - 1s 7ms/step - loss: 1.2996 - accuracy: 0.5393 - val_loss: 1.3874 - val_accuracy: 0.5085\n",
            "Epoch 15/50\n",
            "98/98 [==============================] - 1s 7ms/step - loss: 1.2855 - accuracy: 0.5459 - val_loss: 1.3675 - val_accuracy: 0.5143\n",
            "Epoch 16/50\n",
            "98/98 [==============================] - 1s 7ms/step - loss: 1.2765 - accuracy: 0.5473 - val_loss: 1.3692 - val_accuracy: 0.5169\n",
            "Epoch 17/50\n",
            "98/98 [==============================] - 1s 7ms/step - loss: 1.2540 - accuracy: 0.5545 - val_loss: 1.3786 - val_accuracy: 0.5119\n",
            "Epoch 18/50\n",
            "98/98 [==============================] - 1s 6ms/step - loss: 1.2275 - accuracy: 0.5666 - val_loss: 1.3612 - val_accuracy: 0.5192\n",
            "Epoch 19/50\n",
            "98/98 [==============================] - 1s 6ms/step - loss: 1.2224 - accuracy: 0.5687 - val_loss: 1.3631 - val_accuracy: 0.5139\n",
            "Epoch 20/50\n",
            "98/98 [==============================] - 1s 7ms/step - loss: 1.1900 - accuracy: 0.5803 - val_loss: 1.3591 - val_accuracy: 0.5207\n",
            "Epoch 21/50\n",
            "98/98 [==============================] - 1s 7ms/step - loss: 1.1798 - accuracy: 0.5822 - val_loss: 1.3484 - val_accuracy: 0.5222\n",
            "Epoch 22/50\n",
            "98/98 [==============================] - 1s 7ms/step - loss: 1.1619 - accuracy: 0.5888 - val_loss: 1.3884 - val_accuracy: 0.5151\n",
            "Epoch 23/50\n",
            "98/98 [==============================] - 1s 7ms/step - loss: 1.1427 - accuracy: 0.5971 - val_loss: 1.3417 - val_accuracy: 0.5300\n",
            "Epoch 24/50\n",
            "98/98 [==============================] - 1s 7ms/step - loss: 1.1326 - accuracy: 0.5996 - val_loss: 1.3736 - val_accuracy: 0.5222\n",
            "Epoch 25/50\n",
            "98/98 [==============================] - 1s 7ms/step - loss: 1.1187 - accuracy: 0.6064 - val_loss: 1.4056 - val_accuracy: 0.5108\n",
            "Epoch 26/50\n",
            "98/98 [==============================] - 1s 7ms/step - loss: 1.1113 - accuracy: 0.6081 - val_loss: 1.3412 - val_accuracy: 0.5310\n",
            "Epoch 27/50\n",
            "98/98 [==============================] - 1s 7ms/step - loss: 1.0881 - accuracy: 0.6157 - val_loss: 1.3273 - val_accuracy: 0.5325\n",
            "Epoch 28/50\n",
            "98/98 [==============================] - 1s 7ms/step - loss: 1.0767 - accuracy: 0.6196 - val_loss: 1.3506 - val_accuracy: 0.5248\n",
            "Epoch 29/50\n",
            "98/98 [==============================] - 1s 7ms/step - loss: 1.0572 - accuracy: 0.6282 - val_loss: 1.3361 - val_accuracy: 0.5356\n",
            "Epoch 30/50\n",
            "98/98 [==============================] - 1s 7ms/step - loss: 1.0495 - accuracy: 0.6297 - val_loss: 1.3139 - val_accuracy: 0.5444\n",
            "Epoch 31/50\n",
            "98/98 [==============================] - 1s 7ms/step - loss: 1.0410 - accuracy: 0.6339 - val_loss: 1.3523 - val_accuracy: 0.5288\n",
            "Epoch 32/50\n",
            "98/98 [==============================] - 1s 7ms/step - loss: 1.0193 - accuracy: 0.6398 - val_loss: 1.3315 - val_accuracy: 0.5351\n",
            "Epoch 33/50\n",
            "98/98 [==============================] - 1s 7ms/step - loss: 1.0116 - accuracy: 0.6459 - val_loss: 1.3286 - val_accuracy: 0.5401\n",
            "Epoch 34/50\n",
            "98/98 [==============================] - 1s 7ms/step - loss: 0.9942 - accuracy: 0.6520 - val_loss: 1.3533 - val_accuracy: 0.5320\n",
            "Epoch 35/50\n",
            "98/98 [==============================] - 1s 7ms/step - loss: 0.9783 - accuracy: 0.6586 - val_loss: 1.3553 - val_accuracy: 0.5306\n",
            "Epoch 36/50\n",
            "98/98 [==============================] - 1s 7ms/step - loss: 0.9719 - accuracy: 0.6591 - val_loss: 1.3777 - val_accuracy: 0.5283\n",
            "Epoch 37/50\n",
            "98/98 [==============================] - 1s 7ms/step - loss: 0.9506 - accuracy: 0.6664 - val_loss: 1.3791 - val_accuracy: 0.5252\n",
            "Epoch 38/50\n",
            "98/98 [==============================] - 1s 7ms/step - loss: 0.9337 - accuracy: 0.6706 - val_loss: 1.3653 - val_accuracy: 0.5343\n",
            "Epoch 39/50\n",
            "98/98 [==============================] - 1s 7ms/step - loss: 0.9299 - accuracy: 0.6734 - val_loss: 1.3638 - val_accuracy: 0.5368\n",
            "Epoch 40/50\n",
            "98/98 [==============================] - 1s 7ms/step - loss: 0.9169 - accuracy: 0.6779 - val_loss: 1.3988 - val_accuracy: 0.5309\n",
            "Epoch 41/50\n",
            "98/98 [==============================] - 1s 7ms/step - loss: 0.9087 - accuracy: 0.6796 - val_loss: 1.4052 - val_accuracy: 0.5272\n",
            "Epoch 42/50\n",
            "98/98 [==============================] - 1s 7ms/step - loss: 0.8965 - accuracy: 0.6837 - val_loss: 1.4035 - val_accuracy: 0.5317\n",
            "Epoch 43/50\n",
            "98/98 [==============================] - 1s 7ms/step - loss: 0.8831 - accuracy: 0.6887 - val_loss: 1.4471 - val_accuracy: 0.5197\n",
            "Epoch 44/50\n",
            "98/98 [==============================] - 1s 7ms/step - loss: 0.8810 - accuracy: 0.6915 - val_loss: 1.4207 - val_accuracy: 0.5212\n",
            "Epoch 45/50\n",
            "98/98 [==============================] - 1s 7ms/step - loss: 0.8655 - accuracy: 0.6944 - val_loss: 1.4165 - val_accuracy: 0.5314\n",
            "Epoch 46/50\n",
            "98/98 [==============================] - 1s 7ms/step - loss: 0.8549 - accuracy: 0.6999 - val_loss: 1.4625 - val_accuracy: 0.5263\n",
            "Epoch 47/50\n",
            "98/98 [==============================] - 1s 7ms/step - loss: 0.8396 - accuracy: 0.7049 - val_loss: 1.4196 - val_accuracy: 0.5336\n",
            "Epoch 48/50\n",
            "98/98 [==============================] - 1s 7ms/step - loss: 0.8225 - accuracy: 0.7116 - val_loss: 1.4689 - val_accuracy: 0.5253\n",
            "Epoch 49/50\n",
            "98/98 [==============================] - 1s 7ms/step - loss: 0.8120 - accuracy: 0.7162 - val_loss: 1.4683 - val_accuracy: 0.5269\n",
            "Epoch 50/50\n",
            "98/98 [==============================] - 1s 7ms/step - loss: 0.8013 - accuracy: 0.7187 - val_loss: 1.4631 - val_accuracy: 0.5254\n"
          ],
          "name": "stdout"
        },
        {
          "output_type": "stream",
          "text": [
            "No handles with labels found to put in legend.\n"
          ],
          "name": "stderr"
        },
        {
          "output_type": "display_data",
          "data": {
            "image/png": "[encoded data removed]",
            "text/plain": [
              "<Figure size 432x288 with 1 Axes>"
            ]
          },
          "metadata": {
            "tags": [],
            "needs_background": "light"
          }
        },
        {
          "output_type": "stream",
          "text": [
            "313/313 [==============================] - 1s 2ms/step - loss: 1.4631 - accuracy: 0.5254\n",
            "Test loss 1.4631, accuracy 52.54%\n"
          ],
          "name": "stdout"
        },
        {
          "output_type": "execute_result",
          "data": {
            "text/plain": [
              "52.539998292922974"
            ]
          },
          "metadata": {
            "tags": []
          },
          "execution_count": 21
        }
      ]
    },
    {
      "cell_type": "code",
      "metadata": {
        "id": "KJBzfDWp1HYe",
        "colab": {
          "base_uri": "https://localhost:8080/",
          "height": 1000
        },
        "outputId": "48bc2788-7e71-45ba-a5bf-e6622d31d3c2"
      },
      "source": [
        "# добавляем сверточный слой\n",
        "\n",
        "input1 = layers.Input(shape=(32,32,3))\n",
        "\n",
        "x = layers.Conv2D(32, kernel_size=(3, 3), activation='relu',  padding=\"same\")(input1)\n",
        "x = layers.MaxPooling2D(pool_size=(2, 2))(x)\n",
        "\n",
        "x = layers.Flatten()(x)\n",
        "x = layers.Dense(512, activation='relu')(x)\n",
        "\n",
        "out_x = layers.Dense(10, activation='softmax')(x)\n",
        "\n",
        "# model.summary()\n",
        "\n",
        "model_run(input1, out_x)"
      ],
      "id": "KJBzfDWp1HYe",
      "execution_count": 11,
      "outputs": [
        {
          "output_type": "stream",
          "text": [
            "Epoch 1/50\n",
            "98/98 [==============================] - 3s 22ms/step - loss: 1.7658 - accuracy: 0.3860 - val_loss: 1.4214 - val_accuracy: 0.4953\n",
            "Epoch 2/50\n",
            "98/98 [==============================] - 2s 19ms/step - loss: 1.3370 - accuracy: 0.5336 - val_loss: 1.2725 - val_accuracy: 0.5519\n",
            "Epoch 3/50\n",
            "98/98 [==============================] - 2s 19ms/step - loss: 1.2017 - accuracy: 0.5812 - val_loss: 1.1894 - val_accuracy: 0.5830\n",
            "Epoch 4/50\n",
            "98/98 [==============================] - 2s 19ms/step - loss: 1.1268 - accuracy: 0.6082 - val_loss: 1.1419 - val_accuracy: 0.6006\n",
            "Epoch 5/50\n",
            "98/98 [==============================] - 2s 19ms/step - loss: 1.0666 - accuracy: 0.6299 - val_loss: 1.1450 - val_accuracy: 0.5979\n",
            "Epoch 6/50\n",
            "98/98 [==============================] - 2s 19ms/step - loss: 1.0131 - accuracy: 0.6479 - val_loss: 1.0731 - val_accuracy: 0.6250\n",
            "Epoch 7/50\n",
            "98/98 [==============================] - 2s 19ms/step - loss: 0.9648 - accuracy: 0.6680 - val_loss: 1.0597 - val_accuracy: 0.6328\n",
            "Epoch 8/50\n",
            "98/98 [==============================] - 2s 19ms/step - loss: 0.9194 - accuracy: 0.6852 - val_loss: 1.0380 - val_accuracy: 0.6376\n",
            "Epoch 9/50\n",
            "98/98 [==============================] - 2s 19ms/step - loss: 0.8745 - accuracy: 0.7002 - val_loss: 1.0130 - val_accuracy: 0.6502\n",
            "Epoch 10/50\n",
            "98/98 [==============================] - 2s 19ms/step - loss: 0.8342 - accuracy: 0.7142 - val_loss: 1.0254 - val_accuracy: 0.6497\n",
            "Epoch 11/50\n",
            "98/98 [==============================] - 2s 19ms/step - loss: 0.7982 - accuracy: 0.7264 - val_loss: 1.0209 - val_accuracy: 0.6526\n",
            "Epoch 12/50\n",
            "98/98 [==============================] - 2s 19ms/step - loss: 0.7625 - accuracy: 0.7389 - val_loss: 1.0023 - val_accuracy: 0.6591\n",
            "Epoch 13/50\n",
            "98/98 [==============================] - 2s 19ms/step - loss: 0.7302 - accuracy: 0.7496 - val_loss: 0.9835 - val_accuracy: 0.6638\n",
            "Epoch 14/50\n",
            "98/98 [==============================] - 2s 19ms/step - loss: 0.6947 - accuracy: 0.7618 - val_loss: 0.9960 - val_accuracy: 0.6585\n",
            "Epoch 15/50\n",
            "98/98 [==============================] - 2s 19ms/step - loss: 0.6675 - accuracy: 0.7724 - val_loss: 1.0193 - val_accuracy: 0.6537\n",
            "Epoch 16/50\n",
            "98/98 [==============================] - 2s 19ms/step - loss: 0.6321 - accuracy: 0.7862 - val_loss: 0.9965 - val_accuracy: 0.6641\n",
            "Epoch 17/50\n",
            "98/98 [==============================] - 2s 19ms/step - loss: 0.6059 - accuracy: 0.7949 - val_loss: 1.0077 - val_accuracy: 0.6672\n",
            "Epoch 18/50\n",
            "98/98 [==============================] - 2s 19ms/step - loss: 0.5767 - accuracy: 0.8072 - val_loss: 0.9948 - val_accuracy: 0.6625\n",
            "Epoch 19/50\n",
            "98/98 [==============================] - 2s 19ms/step - loss: 0.5454 - accuracy: 0.8174 - val_loss: 0.9915 - val_accuracy: 0.6666\n",
            "Epoch 20/50\n",
            "98/98 [==============================] - 2s 19ms/step - loss: 0.5089 - accuracy: 0.8326 - val_loss: 1.0067 - val_accuracy: 0.6707\n",
            "Epoch 21/50\n",
            "98/98 [==============================] - 2s 19ms/step - loss: 0.4894 - accuracy: 0.8389 - val_loss: 1.0418 - val_accuracy: 0.6602\n",
            "Epoch 22/50\n",
            "98/98 [==============================] - 2s 19ms/step - loss: 0.4636 - accuracy: 0.8489 - val_loss: 1.0178 - val_accuracy: 0.6711\n",
            "Epoch 23/50\n",
            "98/98 [==============================] - 2s 19ms/step - loss: 0.4305 - accuracy: 0.8625 - val_loss: 1.0190 - val_accuracy: 0.6750\n",
            "Epoch 24/50\n",
            "98/98 [==============================] - 2s 19ms/step - loss: 0.4007 - accuracy: 0.8740 - val_loss: 1.0238 - val_accuracy: 0.6783\n",
            "Epoch 25/50\n",
            "98/98 [==============================] - 2s 19ms/step - loss: 0.3859 - accuracy: 0.8789 - val_loss: 1.0368 - val_accuracy: 0.6774\n",
            "Epoch 26/50\n",
            "98/98 [==============================] - 2s 19ms/step - loss: 0.3485 - accuracy: 0.8945 - val_loss: 1.0621 - val_accuracy: 0.6736\n",
            "Epoch 27/50\n",
            "98/98 [==============================] - 2s 19ms/step - loss: 0.3299 - accuracy: 0.9015 - val_loss: 1.0850 - val_accuracy: 0.6649\n",
            "Epoch 28/50\n",
            "98/98 [==============================] - 2s 19ms/step - loss: 0.3037 - accuracy: 0.9107 - val_loss: 1.1155 - val_accuracy: 0.6645\n",
            "Epoch 29/50\n",
            "98/98 [==============================] - 2s 19ms/step - loss: 0.2877 - accuracy: 0.9165 - val_loss: 1.1190 - val_accuracy: 0.6686\n",
            "Epoch 30/50\n",
            "98/98 [==============================] - 2s 19ms/step - loss: 0.2644 - accuracy: 0.9256 - val_loss: 1.1347 - val_accuracy: 0.6680\n",
            "Epoch 31/50\n",
            "98/98 [==============================] - 2s 19ms/step - loss: 0.2403 - accuracy: 0.9354 - val_loss: 1.1538 - val_accuracy: 0.6715\n",
            "Epoch 32/50\n",
            "98/98 [==============================] - 2s 19ms/step - loss: 0.2223 - accuracy: 0.9418 - val_loss: 1.1712 - val_accuracy: 0.6668\n",
            "Epoch 33/50\n",
            "98/98 [==============================] - 2s 19ms/step - loss: 0.2002 - accuracy: 0.9502 - val_loss: 1.1923 - val_accuracy: 0.6696\n",
            "Epoch 34/50\n",
            "98/98 [==============================] - 2s 19ms/step - loss: 0.1912 - accuracy: 0.9518 - val_loss: 1.2398 - val_accuracy: 0.6626\n",
            "Epoch 35/50\n",
            "98/98 [==============================] - 2s 19ms/step - loss: 0.1731 - accuracy: 0.9585 - val_loss: 1.2589 - val_accuracy: 0.6629\n",
            "Epoch 36/50\n",
            "98/98 [==============================] - 2s 19ms/step - loss: 0.1567 - accuracy: 0.9641 - val_loss: 1.2701 - val_accuracy: 0.6655\n",
            "Epoch 37/50\n",
            "98/98 [==============================] - 2s 19ms/step - loss: 0.1402 - accuracy: 0.9704 - val_loss: 1.3063 - val_accuracy: 0.6640\n",
            "Epoch 38/50\n",
            "98/98 [==============================] - 2s 19ms/step - loss: 0.1250 - accuracy: 0.9753 - val_loss: 1.3324 - val_accuracy: 0.6633\n",
            "Epoch 39/50\n",
            "98/98 [==============================] - 2s 19ms/step - loss: 0.1186 - accuracy: 0.9773 - val_loss: 1.3365 - val_accuracy: 0.6715\n",
            "Epoch 40/50\n",
            "98/98 [==============================] - 2s 19ms/step - loss: 0.1057 - accuracy: 0.9816 - val_loss: 1.4305 - val_accuracy: 0.6610\n",
            "Epoch 41/50\n",
            "98/98 [==============================] - 2s 19ms/step - loss: 0.0980 - accuracy: 0.9832 - val_loss: 1.4380 - val_accuracy: 0.6563\n",
            "Epoch 42/50\n",
            "98/98 [==============================] - 2s 19ms/step - loss: 0.0835 - accuracy: 0.9871 - val_loss: 1.4291 - val_accuracy: 0.6631\n",
            "Epoch 43/50\n",
            "98/98 [==============================] - 2s 19ms/step - loss: 0.0718 - accuracy: 0.9909 - val_loss: 1.4510 - val_accuracy: 0.6664\n",
            "Epoch 44/50\n",
            "98/98 [==============================] - 2s 18ms/step - loss: 0.0677 - accuracy: 0.9921 - val_loss: 1.4719 - val_accuracy: 0.6656\n",
            "Epoch 45/50\n",
            "98/98 [==============================] - 2s 19ms/step - loss: 0.0633 - accuracy: 0.9923 - val_loss: 1.5165 - val_accuracy: 0.6642\n",
            "Epoch 46/50\n",
            "98/98 [==============================] - 2s 19ms/step - loss: 0.0562 - accuracy: 0.9939 - val_loss: 1.5357 - val_accuracy: 0.6630\n",
            "Epoch 47/50\n",
            "98/98 [==============================] - 2s 19ms/step - loss: 0.0512 - accuracy: 0.9950 - val_loss: 1.5760 - val_accuracy: 0.6607\n",
            "Epoch 48/50\n",
            "98/98 [==============================] - 2s 18ms/step - loss: 0.0446 - accuracy: 0.9964 - val_loss: 1.5795 - val_accuracy: 0.6609\n",
            "Epoch 49/50\n",
            "98/98 [==============================] - 2s 19ms/step - loss: 0.0587 - accuracy: 0.9899 - val_loss: 1.6133 - val_accuracy: 0.6548\n",
            "Epoch 50/50\n",
            "98/98 [==============================] - 2s 19ms/step - loss: 0.0458 - accuracy: 0.9948 - val_loss: 1.6567 - val_accuracy: 0.6619\n"
          ],
          "name": "stdout"
        },
        {
          "output_type": "stream",
          "text": [
            "No handles with labels found to put in legend.\n"
          ],
          "name": "stderr"
        },
        {
          "output_type": "display_data",
          "data": {
            "image/png": "[encoded data removed]",
            "text/plain": [
              "<Figure size 432x288 with 1 Axes>"
            ]
          },
          "metadata": {
            "tags": [],
            "needs_background": "light"
          }
        },
        {
          "output_type": "stream",
          "text": [
            "313/313 [==============================] - 1s 2ms/step - loss: 1.6567 - accuracy: 0.6619\n",
            "Test loss 1.6567, accuracy 66.19%\n"
          ],
          "name": "stdout"
        },
        {
          "output_type": "execute_result",
          "data": {
            "text/plain": [
              "66.1899983882904"
            ]
          },
          "metadata": {
            "tags": []
          },
          "execution_count": 11
        }
      ]
    },
    {
      "cell_type": "code",
      "metadata": {
        "id": "_17TYHop3I1q",
        "colab": {
          "base_uri": "https://localhost:8080/",
          "height": 1000
        },
        "outputId": "4f4756a8-a326-4222-e275-8af28f70c07b"
      },
      "source": [
        "# добавляем ещё сверточных слоев\n",
        "\n",
        "input1 = layers.Input(shape=(32,32,3))\n",
        "\n",
        "x = layers.Conv2D(32, kernel_size=(3, 3), activation='relu',  padding=\"same\")(input1)\n",
        "x = layers.MaxPooling2D(pool_size=(2, 2))(x)\n",
        "\n",
        "x = layers.Conv2D(32, kernel_size=(3, 3), activation='relu',  padding=\"same\")(x)\n",
        "x = layers.MaxPooling2D(pool_size=(2, 2))(x)\n",
        "\n",
        "x = layers.Conv2D(32, kernel_size=(3, 3), activation='relu',  padding=\"same\")(x)\n",
        "x = layers.MaxPooling2D(pool_size=(2, 2))(x)\n",
        "\n",
        "x = layers.Flatten()(x)\n",
        "x = layers.Dense(512, activation='relu')(x)\n",
        "\n",
        "out_x = layers.Dense(10, activation='softmax')(x)\n",
        "\n",
        "# model.summary()\n",
        "\n",
        "model_run(input1, out_x)"
      ],
      "id": "_17TYHop3I1q",
      "execution_count": 12,
      "outputs": [
        {
          "output_type": "stream",
          "text": [
            "Epoch 1/50\n",
            "98/98 [==============================] - 3s 24ms/step - loss: 1.8125 - accuracy: 0.3445 - val_loss: 1.5159 - val_accuracy: 0.4530\n",
            "Epoch 2/50\n",
            "98/98 [==============================] - 2s 19ms/step - loss: 1.4305 - accuracy: 0.4848 - val_loss: 1.3623 - val_accuracy: 0.5124\n",
            "Epoch 3/50\n",
            "98/98 [==============================] - 2s 19ms/step - loss: 1.2848 - accuracy: 0.5427 - val_loss: 1.2417 - val_accuracy: 0.5624\n",
            "Epoch 4/50\n",
            "98/98 [==============================] - 2s 20ms/step - loss: 1.1950 - accuracy: 0.5770 - val_loss: 1.1693 - val_accuracy: 0.5846\n",
            "Epoch 5/50\n",
            "98/98 [==============================] - 2s 20ms/step - loss: 1.1179 - accuracy: 0.6057 - val_loss: 1.2160 - val_accuracy: 0.5615\n",
            "Epoch 6/50\n",
            "98/98 [==============================] - 2s 20ms/step - loss: 1.0564 - accuracy: 0.6277 - val_loss: 1.0766 - val_accuracy: 0.6217\n",
            "Epoch 7/50\n",
            "98/98 [==============================] - 2s 20ms/step - loss: 1.0104 - accuracy: 0.6470 - val_loss: 1.0297 - val_accuracy: 0.6378\n",
            "Epoch 8/50\n",
            "98/98 [==============================] - 2s 20ms/step - loss: 0.9657 - accuracy: 0.6619 - val_loss: 1.0148 - val_accuracy: 0.6397\n",
            "Epoch 9/50\n",
            "98/98 [==============================] - 2s 19ms/step - loss: 0.9305 - accuracy: 0.6744 - val_loss: 1.0103 - val_accuracy: 0.6520\n",
            "Epoch 10/50\n",
            "98/98 [==============================] - 2s 20ms/step - loss: 0.8867 - accuracy: 0.6899 - val_loss: 0.9740 - val_accuracy: 0.6593\n",
            "Epoch 11/50\n",
            "98/98 [==============================] - 2s 20ms/step - loss: 0.8632 - accuracy: 0.6955 - val_loss: 0.9432 - val_accuracy: 0.6706\n",
            "Epoch 12/50\n",
            "98/98 [==============================] - 2s 20ms/step - loss: 0.8302 - accuracy: 0.7105 - val_loss: 0.9685 - val_accuracy: 0.6632\n",
            "Epoch 13/50\n",
            "98/98 [==============================] - 2s 20ms/step - loss: 0.8118 - accuracy: 0.7175 - val_loss: 0.9143 - val_accuracy: 0.6786\n",
            "Epoch 14/50\n",
            "98/98 [==============================] - 2s 20ms/step - loss: 0.7805 - accuracy: 0.7278 - val_loss: 0.8834 - val_accuracy: 0.6872\n",
            "Epoch 15/50\n",
            "98/98 [==============================] - 2s 20ms/step - loss: 0.7523 - accuracy: 0.7378 - val_loss: 0.8671 - val_accuracy: 0.6959\n",
            "Epoch 16/50\n",
            "98/98 [==============================] - 2s 20ms/step - loss: 0.7246 - accuracy: 0.7478 - val_loss: 0.8712 - val_accuracy: 0.6964\n",
            "Epoch 17/50\n",
            "98/98 [==============================] - 2s 20ms/step - loss: 0.7000 - accuracy: 0.7562 - val_loss: 0.8597 - val_accuracy: 0.6971\n",
            "Epoch 18/50\n",
            "98/98 [==============================] - 2s 20ms/step - loss: 0.6747 - accuracy: 0.7653 - val_loss: 0.8543 - val_accuracy: 0.7041\n",
            "Epoch 19/50\n",
            "98/98 [==============================] - 2s 19ms/step - loss: 0.6487 - accuracy: 0.7735 - val_loss: 0.8629 - val_accuracy: 0.7027\n",
            "Epoch 20/50\n",
            "98/98 [==============================] - 2s 20ms/step - loss: 0.6438 - accuracy: 0.7753 - val_loss: 0.8737 - val_accuracy: 0.7000\n",
            "Epoch 21/50\n",
            "98/98 [==============================] - 2s 20ms/step - loss: 0.6074 - accuracy: 0.7892 - val_loss: 0.8356 - val_accuracy: 0.7141\n",
            "Epoch 22/50\n",
            "98/98 [==============================] - 2s 20ms/step - loss: 0.5822 - accuracy: 0.7982 - val_loss: 0.8596 - val_accuracy: 0.7107\n",
            "Epoch 23/50\n",
            "98/98 [==============================] - 2s 20ms/step - loss: 0.5682 - accuracy: 0.8027 - val_loss: 0.8544 - val_accuracy: 0.7080\n",
            "Epoch 24/50\n",
            "98/98 [==============================] - 2s 20ms/step - loss: 0.5446 - accuracy: 0.8104 - val_loss: 0.8765 - val_accuracy: 0.7032\n",
            "Epoch 25/50\n",
            "98/98 [==============================] - 2s 20ms/step - loss: 0.5169 - accuracy: 0.8218 - val_loss: 0.8510 - val_accuracy: 0.7150\n",
            "Epoch 26/50\n",
            "98/98 [==============================] - 2s 20ms/step - loss: 0.4933 - accuracy: 0.8294 - val_loss: 0.8482 - val_accuracy: 0.7170\n",
            "Epoch 27/50\n",
            "98/98 [==============================] - 2s 20ms/step - loss: 0.4772 - accuracy: 0.8354 - val_loss: 0.8743 - val_accuracy: 0.7125\n",
            "Epoch 28/50\n",
            "98/98 [==============================] - 2s 19ms/step - loss: 0.4619 - accuracy: 0.8415 - val_loss: 0.8710 - val_accuracy: 0.7181\n",
            "Epoch 29/50\n",
            "98/98 [==============================] - 2s 19ms/step - loss: 0.4361 - accuracy: 0.8495 - val_loss: 0.8709 - val_accuracy: 0.7204\n",
            "Epoch 30/50\n",
            "98/98 [==============================] - 2s 20ms/step - loss: 0.4120 - accuracy: 0.8585 - val_loss: 0.9031 - val_accuracy: 0.7179\n",
            "Epoch 31/50\n",
            "98/98 [==============================] - 2s 20ms/step - loss: 0.3962 - accuracy: 0.8641 - val_loss: 0.9074 - val_accuracy: 0.7133\n",
            "Epoch 32/50\n",
            "98/98 [==============================] - 2s 20ms/step - loss: 0.3775 - accuracy: 0.8709 - val_loss: 0.9179 - val_accuracy: 0.7167\n",
            "Epoch 33/50\n",
            "98/98 [==============================] - 2s 20ms/step - loss: 0.3489 - accuracy: 0.8813 - val_loss: 0.9339 - val_accuracy: 0.7176\n",
            "Epoch 34/50\n",
            "98/98 [==============================] - 2s 20ms/step - loss: 0.3312 - accuracy: 0.8880 - val_loss: 0.9166 - val_accuracy: 0.7287\n",
            "Epoch 35/50\n",
            "98/98 [==============================] - 2s 20ms/step - loss: 0.3058 - accuracy: 0.8972 - val_loss: 0.9471 - val_accuracy: 0.7242\n",
            "Epoch 36/50\n",
            "98/98 [==============================] - 2s 20ms/step - loss: 0.2855 - accuracy: 0.9044 - val_loss: 0.9542 - val_accuracy: 0.7243\n",
            "Epoch 37/50\n",
            "98/98 [==============================] - 2s 20ms/step - loss: 0.2708 - accuracy: 0.9100 - val_loss: 0.9981 - val_accuracy: 0.7240\n",
            "Epoch 38/50\n",
            "98/98 [==============================] - 2s 20ms/step - loss: 0.2548 - accuracy: 0.9161 - val_loss: 1.0204 - val_accuracy: 0.7182\n",
            "Epoch 39/50\n",
            "98/98 [==============================] - 2s 19ms/step - loss: 0.2614 - accuracy: 0.9119 - val_loss: 1.0324 - val_accuracy: 0.7168\n",
            "Epoch 40/50\n",
            "98/98 [==============================] - 2s 20ms/step - loss: 0.2156 - accuracy: 0.9302 - val_loss: 1.0800 - val_accuracy: 0.7144\n",
            "Epoch 41/50\n",
            "98/98 [==============================] - 2s 20ms/step - loss: 0.2019 - accuracy: 0.9344 - val_loss: 1.0746 - val_accuracy: 0.7230\n",
            "Epoch 42/50\n",
            "98/98 [==============================] - 2s 20ms/step - loss: 0.1820 - accuracy: 0.9417 - val_loss: 1.1212 - val_accuracy: 0.7115\n",
            "Epoch 43/50\n",
            "98/98 [==============================] - 2s 20ms/step - loss: 0.1730 - accuracy: 0.9445 - val_loss: 1.1658 - val_accuracy: 0.7147\n",
            "Epoch 44/50\n",
            "98/98 [==============================] - 2s 20ms/step - loss: 0.1535 - accuracy: 0.9530 - val_loss: 1.1994 - val_accuracy: 0.7197\n",
            "Epoch 45/50\n",
            "98/98 [==============================] - 2s 20ms/step - loss: 0.1441 - accuracy: 0.9558 - val_loss: 1.2625 - val_accuracy: 0.7098\n",
            "Epoch 46/50\n",
            "98/98 [==============================] - 2s 20ms/step - loss: 0.1292 - accuracy: 0.9612 - val_loss: 1.3535 - val_accuracy: 0.7091\n",
            "Epoch 47/50\n",
            "98/98 [==============================] - 2s 19ms/step - loss: 0.1156 - accuracy: 0.9665 - val_loss: 1.3213 - val_accuracy: 0.7129\n",
            "Epoch 48/50\n",
            "98/98 [==============================] - 2s 20ms/step - loss: 0.1052 - accuracy: 0.9690 - val_loss: 1.3580 - val_accuracy: 0.7197\n",
            "Epoch 49/50\n",
            "98/98 [==============================] - 2s 20ms/step - loss: 0.0968 - accuracy: 0.9730 - val_loss: 1.3818 - val_accuracy: 0.7187\n",
            "Epoch 50/50\n",
            "98/98 [==============================] - 2s 20ms/step - loss: 0.0909 - accuracy: 0.9739 - val_loss: 1.4406 - val_accuracy: 0.7080\n"
          ],
          "name": "stdout"
        },
        {
          "output_type": "stream",
          "text": [
            "No handles with labels found to put in legend.\n"
          ],
          "name": "stderr"
        },
        {
          "output_type": "display_data",
          "data": {
            "image/png": "[encoded data removed]",
            "text/plain": [
              "<Figure size 432x288 with 1 Axes>"
            ]
          },
          "metadata": {
            "tags": [],
            "needs_background": "light"
          }
        },
        {
          "output_type": "stream",
          "text": [
            "313/313 [==============================] - 1s 3ms/step - loss: 1.4406 - accuracy: 0.7080\n",
            "Test loss 1.4406, accuracy 70.80%\n"
          ],
          "name": "stdout"
        },
        {
          "output_type": "execute_result",
          "data": {
            "text/plain": [
              "70.80000042915344"
            ]
          },
          "metadata": {
            "tags": []
          },
          "execution_count": 12
        }
      ]
    },
    {
      "cell_type": "code",
      "metadata": {
        "id": "EtJqgcZzyhP-",
        "colab": {
          "base_uri": "https://localhost:8080/",
          "height": 1000
        },
        "outputId": "60441916-866e-4664-f160-162352816fe0"
      },
      "source": [
        "# сеть AlexNet\n",
        "\n",
        "input1 = layers.Input(shape=(32,32,3))\n",
        "\n",
        "x = layers.Conv2D(32, kernel_size=(3, 3), activation='relu',  padding=\"same\")(input1)\n",
        "x = layers.MaxPooling2D(pool_size=(3, 3), strides=(2, 2), padding='valid')(x)\n",
        "\n",
        "x = layers.Conv2D(192, kernel_size=(5, 5), strides=(1, 1), activation='relu', padding='same')(x)\n",
        "x = layers.MaxPooling2D(pool_size=(3, 3), strides=(2, 2), padding='valid')(x)\n",
        "\n",
        "x = layers.Conv2D(384, kernel_size=(3, 3), strides=(1, 1), activation='relu', padding='same')(x)\n",
        "x = layers.Conv2D(256, kernel_size=(3, 3), strides=(1, 1), activation='relu', padding='same')(x)\n",
        "x = layers.Conv2D(256, kernel_size=(3, 3), strides=(1, 1), activation='relu', padding='same')(x)\n",
        "x = layers.MaxPooling2D(pool_size=(3, 3), strides=(2, 2), padding='valid')(x)\n",
        "\n",
        "x = layers.Flatten()(x)\n",
        "x = layers.Dense(4096, activation='relu')(x)\n",
        "x = layers.Dense(4096, activation='relu')(x)\n",
        "\n",
        "out_x = layers.Dense(10, activation='softmax')(x)\n",
        "\n",
        "# model.summary()\n",
        "model_run(input1, out_x)"
      ],
      "id": "EtJqgcZzyhP-",
      "execution_count": 13,
      "outputs": [
        {
          "output_type": "stream",
          "text": [
            "Epoch 1/50\n",
            "98/98 [==============================] - 16s 128ms/step - loss: 2.1634 - accuracy: 0.1790 - val_loss: 1.7714 - val_accuracy: 0.3147\n",
            "Epoch 2/50\n",
            "98/98 [==============================] - 10s 100ms/step - loss: 1.6083 - accuracy: 0.3928 - val_loss: 1.4242 - val_accuracy: 0.4689\n",
            "Epoch 3/50\n",
            "98/98 [==============================] - 10s 100ms/step - loss: 1.2990 - accuracy: 0.5219 - val_loss: 1.1692 - val_accuracy: 0.5732\n",
            "Epoch 4/50\n",
            "98/98 [==============================] - 10s 100ms/step - loss: 1.0800 - accuracy: 0.6096 - val_loss: 1.0288 - val_accuracy: 0.6329\n",
            "Epoch 5/50\n",
            "98/98 [==============================] - 10s 101ms/step - loss: 0.9306 - accuracy: 0.6656 - val_loss: 0.9543 - val_accuracy: 0.6587\n",
            "Epoch 6/50\n",
            "98/98 [==============================] - 10s 101ms/step - loss: 0.8195 - accuracy: 0.7074 - val_loss: 0.8775 - val_accuracy: 0.6923\n",
            "Epoch 7/50\n",
            "98/98 [==============================] - 10s 101ms/step - loss: 0.7239 - accuracy: 0.7437 - val_loss: 0.8556 - val_accuracy: 0.7071\n",
            "Epoch 8/50\n",
            "98/98 [==============================] - 10s 100ms/step - loss: 0.6376 - accuracy: 0.7740 - val_loss: 0.8231 - val_accuracy: 0.7139\n",
            "Epoch 9/50\n",
            "98/98 [==============================] - 10s 100ms/step - loss: 0.5586 - accuracy: 0.8030 - val_loss: 0.7629 - val_accuracy: 0.7402\n",
            "Epoch 10/50\n",
            "98/98 [==============================] - 10s 100ms/step - loss: 0.5114 - accuracy: 0.8195 - val_loss: 0.7503 - val_accuracy: 0.7482\n",
            "Epoch 11/50\n",
            "98/98 [==============================] - 10s 100ms/step - loss: 0.4318 - accuracy: 0.8476 - val_loss: 0.8023 - val_accuracy: 0.7453\n",
            "Epoch 12/50\n",
            "98/98 [==============================] - 10s 100ms/step - loss: 0.3763 - accuracy: 0.8678 - val_loss: 0.7908 - val_accuracy: 0.7494\n",
            "Epoch 13/50\n",
            "98/98 [==============================] - 10s 100ms/step - loss: 0.3359 - accuracy: 0.8817 - val_loss: 0.8196 - val_accuracy: 0.7495\n",
            "Epoch 14/50\n",
            "98/98 [==============================] - 10s 100ms/step - loss: 0.2932 - accuracy: 0.8959 - val_loss: 0.8480 - val_accuracy: 0.7596\n",
            "Epoch 15/50\n",
            "98/98 [==============================] - 10s 100ms/step - loss: 0.2304 - accuracy: 0.9208 - val_loss: 0.9095 - val_accuracy: 0.7567\n",
            "Epoch 16/50\n",
            "98/98 [==============================] - 10s 100ms/step - loss: 0.2002 - accuracy: 0.9285 - val_loss: 0.9092 - val_accuracy: 0.7525\n",
            "Epoch 17/50\n",
            "98/98 [==============================] - 10s 100ms/step - loss: 0.1791 - accuracy: 0.9362 - val_loss: 0.9743 - val_accuracy: 0.7534\n",
            "Epoch 18/50\n",
            "98/98 [==============================] - 10s 100ms/step - loss: 0.1527 - accuracy: 0.9460 - val_loss: 1.0033 - val_accuracy: 0.7646\n",
            "Epoch 19/50\n",
            "98/98 [==============================] - 10s 100ms/step - loss: 0.1172 - accuracy: 0.9598 - val_loss: 1.1320 - val_accuracy: 0.7416\n",
            "Epoch 20/50\n",
            "98/98 [==============================] - 10s 100ms/step - loss: 0.1151 - accuracy: 0.9602 - val_loss: 1.1621 - val_accuracy: 0.7574\n",
            "Epoch 21/50\n",
            "98/98 [==============================] - 10s 100ms/step - loss: 0.1090 - accuracy: 0.9617 - val_loss: 1.2284 - val_accuracy: 0.7538\n",
            "Epoch 22/50\n",
            "98/98 [==============================] - 10s 100ms/step - loss: 0.0879 - accuracy: 0.9695 - val_loss: 1.1954 - val_accuracy: 0.7529\n",
            "Epoch 23/50\n",
            "98/98 [==============================] - 10s 100ms/step - loss: 0.0793 - accuracy: 0.9731 - val_loss: 1.2586 - val_accuracy: 0.7610\n",
            "Epoch 24/50\n",
            "98/98 [==============================] - 10s 100ms/step - loss: 0.0921 - accuracy: 0.9683 - val_loss: 1.2021 - val_accuracy: 0.7556\n",
            "Epoch 25/50\n",
            "98/98 [==============================] - 10s 100ms/step - loss: 0.0743 - accuracy: 0.9744 - val_loss: 1.3109 - val_accuracy: 0.7590\n",
            "Epoch 26/50\n",
            "98/98 [==============================] - 10s 100ms/step - loss: 0.0698 - accuracy: 0.9763 - val_loss: 1.2906 - val_accuracy: 0.7642\n",
            "Epoch 27/50\n",
            "98/98 [==============================] - 10s 100ms/step - loss: 0.0545 - accuracy: 0.9812 - val_loss: 1.4174 - val_accuracy: 0.7555\n",
            "Epoch 28/50\n",
            "98/98 [==============================] - 10s 100ms/step - loss: 0.0698 - accuracy: 0.9754 - val_loss: 1.3386 - val_accuracy: 0.7677\n",
            "Epoch 29/50\n",
            "98/98 [==============================] - 10s 100ms/step - loss: 0.0609 - accuracy: 0.9793 - val_loss: 1.3309 - val_accuracy: 0.7617\n",
            "Epoch 30/50\n",
            "98/98 [==============================] - 10s 100ms/step - loss: 0.0592 - accuracy: 0.9801 - val_loss: 1.3187 - val_accuracy: 0.7625\n",
            "Epoch 31/50\n",
            "98/98 [==============================] - 10s 100ms/step - loss: 0.0440 - accuracy: 0.9852 - val_loss: 1.4084 - val_accuracy: 0.7625\n",
            "Epoch 32/50\n",
            "98/98 [==============================] - 10s 100ms/step - loss: 0.0357 - accuracy: 0.9880 - val_loss: 1.5047 - val_accuracy: 0.7613\n",
            "Epoch 33/50\n",
            "98/98 [==============================] - 10s 100ms/step - loss: 0.0670 - accuracy: 0.9768 - val_loss: 1.3648 - val_accuracy: 0.7619\n",
            "Epoch 34/50\n",
            "98/98 [==============================] - 10s 100ms/step - loss: 0.0486 - accuracy: 0.9837 - val_loss: 1.5694 - val_accuracy: 0.7578\n",
            "Epoch 35/50\n",
            "98/98 [==============================] - 10s 100ms/step - loss: 0.0571 - accuracy: 0.9802 - val_loss: 1.3712 - val_accuracy: 0.7598\n",
            "Epoch 36/50\n",
            "98/98 [==============================] - 10s 100ms/step - loss: 0.0446 - accuracy: 0.9856 - val_loss: 1.4907 - val_accuracy: 0.7574\n",
            "Epoch 37/50\n",
            "98/98 [==============================] - 10s 100ms/step - loss: 0.0553 - accuracy: 0.9815 - val_loss: 1.3824 - val_accuracy: 0.7583\n",
            "Epoch 38/50\n",
            "98/98 [==============================] - 10s 100ms/step - loss: 0.0410 - accuracy: 0.9863 - val_loss: 1.5004 - val_accuracy: 0.7691\n",
            "Epoch 39/50\n",
            "98/98 [==============================] - 10s 101ms/step - loss: 0.0364 - accuracy: 0.9878 - val_loss: 1.4904 - val_accuracy: 0.7609\n",
            "Epoch 40/50\n",
            "98/98 [==============================] - 10s 101ms/step - loss: 0.0482 - accuracy: 0.9838 - val_loss: 1.5339 - val_accuracy: 0.7571\n",
            "Epoch 41/50\n",
            "98/98 [==============================] - 10s 100ms/step - loss: 0.0574 - accuracy: 0.9809 - val_loss: 1.4096 - val_accuracy: 0.7560\n",
            "Epoch 42/50\n",
            "98/98 [==============================] - 10s 100ms/step - loss: 0.0389 - accuracy: 0.9870 - val_loss: 1.5174 - val_accuracy: 0.7646\n",
            "Epoch 43/50\n",
            "98/98 [==============================] - 10s 100ms/step - loss: 0.0335 - accuracy: 0.9888 - val_loss: 1.6803 - val_accuracy: 0.7565\n",
            "Epoch 44/50\n",
            "98/98 [==============================] - 10s 100ms/step - loss: 0.0343 - accuracy: 0.9883 - val_loss: 1.5703 - val_accuracy: 0.7559\n",
            "Epoch 45/50\n",
            "98/98 [==============================] - 10s 100ms/step - loss: 0.0458 - accuracy: 0.9850 - val_loss: 1.5322 - val_accuracy: 0.7563\n",
            "Epoch 46/50\n",
            "98/98 [==============================] - 10s 100ms/step - loss: 0.0432 - accuracy: 0.9856 - val_loss: 1.5778 - val_accuracy: 0.7611\n",
            "Epoch 47/50\n",
            "98/98 [==============================] - 10s 100ms/step - loss: 0.0415 - accuracy: 0.9860 - val_loss: 1.5130 - val_accuracy: 0.7629\n",
            "Epoch 48/50\n",
            "98/98 [==============================] - 10s 100ms/step - loss: 0.0412 - accuracy: 0.9863 - val_loss: 1.6082 - val_accuracy: 0.7619\n",
            "Epoch 49/50\n",
            "98/98 [==============================] - 10s 100ms/step - loss: 0.0311 - accuracy: 0.9898 - val_loss: 1.6515 - val_accuracy: 0.7581\n",
            "Epoch 50/50\n",
            "98/98 [==============================] - 10s 100ms/step - loss: 0.0464 - accuracy: 0.9852 - val_loss: 1.5336 - val_accuracy: 0.7623\n"
          ],
          "name": "stdout"
        },
        {
          "output_type": "stream",
          "text": [
            "No handles with labels found to put in legend.\n"
          ],
          "name": "stderr"
        },
        {
          "output_type": "display_data",
          "data": {
            "image/png": "[encoded data removed]",
            "text/plain": [
              "<Figure size 432x288 with 1 Axes>"
            ]
          },
          "metadata": {
            "tags": [],
            "needs_background": "light"
          }
        },
        {
          "output_type": "stream",
          "text": [
            "313/313 [==============================] - 2s 4ms/step - loss: 1.5336 - accuracy: 0.7623\n",
            "Test loss 1.5336, accuracy 76.23%\n"
          ],
          "name": "stdout"
        },
        {
          "output_type": "execute_result",
          "data": {
            "text/plain": [
              "76.23000144958496"
            ]
          },
          "metadata": {
            "tags": []
          },
          "execution_count": 13
        }
      ]
    },
    {
      "cell_type": "markdown",
      "metadata": {
        "id": "L2z8OZpf1CBE"
      },
      "source": [
        "Вывод: Рост метрики очевидет. При подносвязной сети 52%, у AlexNet - 76%"
      ],
      "id": "L2z8OZpf1CBE"
    },
    {
      "cell_type": "code",
      "metadata": {
        "id": "CROcjCgscTIw"
      },
      "source": [
        ""
      ],
      "id": "CROcjCgscTIw",
      "execution_count": 13,
      "outputs": []
    },
    {
      "cell_type": "code",
      "metadata": {
        "id": "93ce68bf"
      },
      "source": [
        ""
      ],
      "id": "93ce68bf",
      "execution_count": 13,
      "outputs": []
    }
  ]
}